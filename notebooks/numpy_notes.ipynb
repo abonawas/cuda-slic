{
 "cells": [
  {
   "cell_type": "code",
   "execution_count": 1,
   "metadata": {},
   "outputs": [],
   "source": [
    "# ensure that any edits to libraries\n",
    "# are reloaded automatically\n",
    "%reload_ext autoreload\n",
    "%autoreload 2\n",
    "\n",
    "%matplotlib inline"
   ]
  },
  {
   "cell_type": "code",
   "execution_count": 2,
   "metadata": {},
   "outputs": [],
   "source": [
    "import numpy as np\n",
    "from skimage import util, data, color, data\n",
    "import matplotlib.pyplot as plt"
   ]
  },
  {
   "cell_type": "code",
   "execution_count": 3,
   "metadata": {},
   "outputs": [
    {
     "name": "stdout",
     "output_type": "stream",
     "text": [
      "[1.6263033e-19 2.7105054e-19 3.7947076e-19]\n",
      "int64\n"
     ]
    },
    {
     "data": {
      "text/plain": [
       "array([1., 2., 3.], dtype=float32)"
      ]
     },
     "execution_count": 3,
     "metadata": {},
     "output_type": "execute_result"
    }
   ],
   "source": [
    "a = np.array([1,2,3])\n",
    "print(util.img_as_float32(a))\n",
    "print(a.dtype)\n",
    "a = np.float32(a)\n",
    "a"
   ]
  },
  {
   "cell_type": "code",
   "execution_count": 4,
   "metadata": {},
   "outputs": [
    {
     "data": {
      "text/plain": [
       "array([1., 2., 3.], dtype=float32)"
      ]
     },
     "execution_count": 4,
     "metadata": {},
     "output_type": "execute_result"
    }
   ],
   "source": [
    "util.img_as_float32(a)"
   ]
  },
  {
   "cell_type": "code",
   "execution_count": 5,
   "metadata": {},
   "outputs": [
    {
     "name": "stdout",
     "output_type": "stream",
     "text": [
      "[5.42101086e-20 1.62630326e-19 2.71050543e-19 3.79470760e-19\n",
      " 4.87890978e-19 5.96311195e-19 7.04731412e-19 8.13151629e-19\n",
      " 9.21571847e-19 1.02999206e-18 1.13841228e-18 1.24683250e-18\n",
      " 1.35525272e-18 1.46367293e-18 1.57209315e-18 1.68051337e-18\n",
      " 1.78893358e-18 1.89735380e-18 2.00577402e-18 2.11419424e-18\n",
      " 2.22261445e-18 2.33103467e-18 2.43945489e-18 2.54787511e-18\n",
      " 2.65629532e-18 2.76471554e-18 2.87313576e-18 2.98155597e-18\n",
      " 3.08997619e-18 3.19839641e-18 3.30681663e-18 3.41523684e-18\n",
      " 3.52365706e-18 3.63207728e-18 3.74049750e-18 3.84891771e-18\n",
      " 3.95733793e-18 4.06575815e-18 4.17417836e-18 4.28259858e-18\n",
      " 4.39101880e-18 4.49943902e-18 4.60785923e-18 4.71627945e-18\n",
      " 4.82469967e-18 4.93311988e-18 5.04154010e-18 5.14996032e-18\n",
      " 5.25838054e-18 5.36680075e-18 5.47522097e-18 5.58364119e-18\n",
      " 5.69206141e-18 5.80048162e-18 5.90890184e-18 6.01732206e-18\n",
      " 6.12574227e-18 6.23416249e-18 6.34258271e-18 6.45100293e-18\n",
      " 6.55942314e-18 6.66784336e-18 6.77626358e-18 6.88468380e-18\n",
      " 6.99310401e-18 7.10152423e-18 7.20994445e-18 7.31836466e-18\n",
      " 7.42678488e-18 7.53520510e-18 7.64362532e-18 7.75204553e-18\n",
      " 7.86046575e-18 7.96888597e-18 8.07730619e-18 8.18572640e-18\n",
      " 8.29414662e-18 8.40256684e-18 8.51098705e-18 8.61940727e-18\n",
      " 8.72782749e-18 8.83624771e-18 8.94466792e-18 9.05308814e-18\n",
      " 9.16150836e-18 9.26992857e-18 9.37834879e-18 9.48676901e-18\n",
      " 9.59518923e-18 9.70360944e-18 9.81202966e-18 9.92044988e-18\n",
      " 1.00288701e-17 1.01372903e-17 1.02457105e-17 1.03541307e-17\n",
      " 1.04625510e-17 1.05709712e-17 1.06793914e-17 1.07878116e-17\n",
      " 1.08962318e-17 1.10046521e-17 1.11130723e-17 1.12214925e-17\n",
      " 1.13299127e-17 1.14383329e-17 1.15467531e-17 1.16551734e-17\n",
      " 1.17635936e-17 1.18720138e-17 1.19804340e-17 1.20888542e-17\n",
      " 1.21972744e-17 1.23056947e-17 1.24141149e-17 1.25225351e-17\n",
      " 1.26309553e-17 1.27393755e-17 1.28477957e-17 1.29562160e-17\n",
      " 1.30646362e-17 1.31730564e-17 1.32814766e-17 1.33898968e-17\n",
      " 1.34983170e-17 1.36067373e-17 1.37151575e-17 1.38235777e-17\n",
      " 1.39319979e-17 1.40404181e-17 1.41488384e-17 1.42572586e-17\n",
      " 1.43656788e-17 1.44740990e-17 1.45825192e-17 1.46909394e-17\n",
      " 1.47993597e-17 1.49077799e-17 1.50162001e-17 1.51246203e-17\n",
      " 1.52330405e-17 1.53414607e-17 1.54498810e-17 1.55583012e-17\n",
      " 1.56667214e-17 1.57751416e-17 1.58835618e-17 1.59919820e-17\n",
      " 1.61004023e-17 1.62088225e-17 1.63172427e-17 1.64256629e-17\n",
      " 1.65340831e-17 1.66425033e-17 1.67509236e-17 1.68593438e-17\n",
      " 1.69677640e-17 1.70761842e-17 1.71846044e-17 1.72930247e-17\n",
      " 1.74014449e-17 1.75098651e-17 1.76182853e-17 1.77267055e-17\n",
      " 1.78351257e-17 1.79435460e-17 1.80519662e-17 1.81603864e-17\n",
      " 1.82688066e-17 1.83772268e-17 1.84856470e-17 1.85940673e-17\n",
      " 1.87024875e-17 1.88109077e-17 1.89193279e-17 1.90277481e-17\n",
      " 1.91361683e-17 1.92445886e-17 1.93530088e-17 1.94614290e-17\n",
      " 1.95698492e-17 1.96782694e-17 1.97866896e-17 1.98951099e-17\n",
      " 2.00035301e-17 2.01119503e-17 2.02203705e-17 2.03287907e-17\n",
      " 2.04372110e-17 2.05456312e-17 2.06540514e-17 2.07624716e-17\n",
      " 2.08708918e-17 2.09793120e-17 2.10877323e-17 2.11961525e-17\n",
      " 2.13045727e-17 2.14129929e-17 2.15214131e-17 2.16298333e-17\n",
      " 2.17382536e-17 2.18466738e-17 2.19550940e-17 2.20635142e-17\n",
      " 2.21719344e-17 2.22803546e-17 2.23887749e-17 2.24971951e-17\n",
      " 2.26056153e-17 2.27140355e-17 2.28224557e-17 2.29308759e-17\n",
      " 2.30392962e-17 2.31477164e-17 2.32561366e-17 2.33645568e-17\n",
      " 2.34729770e-17 2.35813973e-17 2.36898175e-17 2.37982377e-17\n",
      " 2.39066579e-17 2.40150781e-17 2.41234983e-17 2.42319186e-17\n",
      " 2.43403388e-17 2.44487590e-17 2.45571792e-17 2.46655994e-17\n",
      " 2.47740196e-17 2.48824399e-17 2.49908601e-17 2.50992803e-17\n",
      " 2.52077005e-17 2.53161207e-17 2.54245409e-17 2.55329612e-17\n",
      " 2.56413814e-17 2.57498016e-17 2.58582218e-17 2.59666420e-17\n",
      " 2.60750622e-17 2.61834825e-17 2.62919027e-17 2.64003229e-17\n",
      " 2.65087431e-17 2.66171633e-17 2.67255836e-17 2.68340038e-17\n",
      " 2.69424240e-17 2.70508442e-17 2.71592644e-17 2.72676846e-17\n",
      " 2.73761049e-17 2.74845251e-17 2.75929453e-17 2.77013655e-17]\n",
      "[  0.   1.   2.   3.   4.   5.   6.   7.   8.   9.  10.  11.  12.  13.\n",
      "  14.  15.  16.  17.  18.  19.  20.  21.  22.  23.  24.  25.  26.  27.\n",
      "  28.  29.  30.  31.  32.  33.  34.  35.  36.  37.  38.  39.  40.  41.\n",
      "  42.  43.  44.  45.  46.  47.  48.  49.  50.  51.  52.  53.  54.  55.\n",
      "  56.  57.  58.  59.  60.  61.  62.  63.  64.  65.  66.  67.  68.  69.\n",
      "  70.  71.  72.  73.  74.  75.  76.  77.  78.  79.  80.  81.  82.  83.\n",
      "  84.  85.  86.  87.  88.  89.  90.  91.  92.  93.  94.  95.  96.  97.\n",
      "  98.  99. 100. 101. 102. 103. 104. 105. 106. 107. 108. 109. 110. 111.\n",
      " 112. 113. 114. 115. 116. 117. 118. 119. 120. 121. 122. 123. 124. 125.\n",
      " 126. 127. 128. 129. 130. 131. 132. 133. 134. 135. 136. 137. 138. 139.\n",
      " 140. 141. 142. 143. 144. 145. 146. 147. 148. 149. 150. 151. 152. 153.\n",
      " 154. 155. 156. 157. 158. 159. 160. 161. 162. 163. 164. 165. 166. 167.\n",
      " 168. 169. 170. 171. 172. 173. 174. 175. 176. 177. 178. 179. 180. 181.\n",
      " 182. 183. 184. 185. 186. 187. 188. 189. 190. 191. 192. 193. 194. 195.\n",
      " 196. 197. 198. 199. 200. 201. 202. 203. 204. 205. 206. 207. 208. 209.\n",
      " 210. 211. 212. 213. 214. 215. 216. 217. 218. 219. 220. 221. 222. 223.\n",
      " 224. 225. 226. 227. 228. 229. 230. 231. 232. 233. 234. 235. 236. 237.\n",
      " 238. 239. 240. 241. 242. 243. 244. 245. 246. 247. 248. 249. 250. 251.\n",
      " 252. 253. 254. 255.]\n"
     ]
    },
    {
     "data": {
      "image/png": "[encoded data removed]",
      "text/plain": [
       "<Figure size 576x432 with 2 Axes>"
      ]
     },
     "metadata": {
      "needs_background": "light"
     },
     "output_type": "display_data"
    }
   ],
   "source": [
    "a = np.arange(256)\n",
    "b = np.arange(256, dtype=np.float64)\n",
    "fig, ax = plt.subplots(1, 2, figsize=(8,6))\n",
    "ax[0].imshow(util.img_as_float32(a).reshape((16,16)))\n",
    "ax[1].imshow(util.img_as_float32(b).reshape((16,16)))\n",
    "print(util.img_as_float32(a))\n",
    "print(util.img_as_float32(b))"
   ]
  },
  {
   "cell_type": "code",
   "execution_count": 6,
   "metadata": {},
   "outputs": [
    {
     "data": {
      "text/plain": [
       "<matplotlib.image.AxesImage at 0x7f1bc06f35d0>"
      ]
     },
     "execution_count": 6,
     "metadata": {},
     "output_type": "execute_result"
    },
    {
     "data": {
      "image/png": "[encoded data removed]",
      "text/plain": [
       "<Figure size 432x288 with 1 Axes>"
      ]
     },
     "metadata": {
      "needs_background": "light"
     },
     "output_type": "display_data"
    }
   ],
   "source": [
    "plt.imshow(data.binary_blobs(length=10, n_dim=2, seed=2))"
   ]
  },
  {
   "cell_type": "code",
   "execution_count": 7,
   "metadata": {},
   "outputs": [
    {
     "data": {
      "text/plain": [
       "<matplotlib.image.AxesImage at 0x7f1bc06e7f10>"
      ]
     },
     "execution_count": 7,
     "metadata": {},
     "output_type": "execute_result"
    },
    {
     "data": {
      "image/png": "[encoded data removed]",
      "text/plain": [
       "<Figure size 432x288 with 1 Axes>"
      ]
     },
     "metadata": {
      "needs_background": "light"
     },
     "output_type": "display_data"
    }
   ],
   "source": [
    "plt.imshow(util.img_as_float32(data.binary_blobs(length=10, n_dim=2, seed=2)))"
   ]
  },
  {
   "cell_type": "code",
   "execution_count": 15,
   "metadata": {},
   "outputs": [
    {
     "name": "stdout",
     "output_type": "stream",
     "text": [
      "[[0 1 2]\n",
      " [3 4 5]\n",
      " [6 7 8]]\n",
      "(1, 3, 3, 1)\n",
      "[[[[0]\n",
      "   [1]\n",
      "   [2]]\n",
      "\n",
      "  [[3]\n",
      "   [4]\n",
      "   [5]]\n",
      "\n",
      "  [[6]\n",
      "   [7]\n",
      "   [8]]]]\n"
     ]
    }
   ],
   "source": [
    "image = np.arange(9).reshape((3,3))\n",
    "print(image)\n",
    "image = image[np.newaxis,...,np.newaxis]\n",
    "print(image.shape)\n",
    "print(image)"
   ]
  },
  {
   "cell_type": "code",
   "execution_count": 18,
   "metadata": {},
   "outputs": [
    {
     "name": "stdout",
     "output_type": "stream",
     "text": [
      "[[[0 1]\n",
      "  [2 3]]\n",
      "\n",
      " [[4 5]\n",
      "  [6 7]]]\n",
      "(2, 2, 2, 1)\n",
      "[[[[0]\n",
      "   [1]]\n",
      "\n",
      "  [[2]\n",
      "   [3]]]\n",
      "\n",
      "\n",
      " [[[4]\n",
      "   [5]]\n",
      "\n",
      "  [[6]\n",
      "   [7]]]]\n"
     ]
    }
   ],
   "source": [
    "image = np.arange(8).reshape((2,2,2))\n",
    "print(image)\n",
    "image = image[..., np.newaxis]\n",
    "print(image.shape)\n",
    "print(image)"
   ]
  },
  {
   "cell_type": "code",
   "execution_count": 23,
   "metadata": {},
   "outputs": [
    {
     "name": "stdout",
     "output_type": "stream",
     "text": [
      "[[[ 0  1  2]\n",
      "  [ 3  4  5]]\n",
      "\n",
      " [[ 6  7  8]\n",
      "  [ 9 10 11]]]\n",
      "\n",
      "(1, 2, 2, 3)\n",
      "\n",
      "[[[[ 0  1  2]\n",
      "   [ 3  4  5]]\n",
      "\n",
      "  [[ 6  7  8]\n",
      "   [ 9 10 11]]]]\n"
     ]
    }
   ],
   "source": [
    "image = np.arange(12).reshape((2,2,3))\n",
    "print(image)\n",
    "image = image[np.newaxis,...]\n",
    "print(\"\")\n",
    "print(image.shape)\n",
    "print(\"\")\n",
    "print(image)"
   ]
  },
  {
   "cell_type": "code",
   "execution_count": null,
   "metadata": {},
   "outputs": [],
   "source": []
  }
 ],
 "metadata": {
  "kernelspec": {
   "display_name": "Python 3",
   "language": "python",
   "name": "python3"
  },
  "language_info": {
   "codemirror_mode": {
    "name": "ipython",
    "version": 3
   },
   "file_extension": ".py",
   "mimetype": "text/x-python",
   "name": "python",
   "nbconvert_exporter": "python",
   "pygments_lexer": "ipython3",
   "version": "3.7.6"
  }
 },
 "nbformat": 4,
 "nbformat_minor": 4
}
