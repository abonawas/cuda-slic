{
 "cells": [
  {
   "cell_type": "markdown",
   "metadata": {},
   "source": [
    "# Debugging Pycuda Kernels with cuda-gdb\n",
    "To debug an executable `gdb` must attatch to the process of an executable. This is usually achieved by passing an executable as an argument such as:\n",
    "```bash\n",
    "nvcc kernel.cu\n",
    "cuda-gdb a.out\n",
    "```\n",
    "But Pycuda is a uses JIT (just in time) compilation to execute cuda code so how do we debug kernels if we don't have access to the binary?\n",
    "\n",
    "\n",
    "- **Step1**: Set Debugging Flags.\n",
    "\n",
    "    we must complie with debugging option by passing `-g -G` flags to the nvidia compiler.\n",
    "    This is achived by running\n",
    "    `\n",
    "    export PYCUDA_DEFAULT_NVCC_FLAGS=\"-g -G\"\n",
    "    `\n",
    "    before launching this notebook.\n",
    "\n",
    "\n",
    "- **Step2**: Attach to the correct process.\n",
    "\n",
    "    After the debugging environment variable has been set and the ipython notebook has been launched,\n",
    "    the python kernel can be attached to with the following command:\n",
    "    ```\n",
    "    cuda-gdb -p $(pgrep -f ipykernel)\n",
    "    ```\n",
    "    \n",
    "    We are using the command line tool `pgrep` to get the pid of the nootbook session.\n",
    "    This is the same as running\n",
    "    ```\n",
    "    cuda-gdb --pid $(ps aux | grep [i]pykernel | awk '{print $2}')\n",
    "    ```\n",
    "    Note: this might fail if you have more than one ipython kernel running. In that case you can copy and paste the pid\n",
    "    for the desired process. Use the same technique to attach to a python process \n",
    "    e.g. `cuda-gdb -p $(pgrep -f python)`."
   ]
  },
  {
   "cell_type": "markdown",
   "metadata": {},
   "source": [
    "- **Step3**: set desired breakpoints.\n",
    "\n",
    "    when the cuda-gdb attaches to the ipython kernel it will freeze the process so that the desired breakpoints\n",
    "    can be set. Breakpoints can be set in the usual gdb way. e.g.\n",
    "    ```\n",
    "    break cuda_kernel_name\n",
    "    ```\n",
    "    then `continue` to resume the ipython process. See [cuda-gdb docs](https://docs.nvidia.com/cuda/cuda-gdb/index.html) for more.\n"
   ]
  },
  {
   "cell_type": "code",
   "execution_count": 1,
   "metadata": {},
   "outputs": [],
   "source": [
    "%matplotlib inline\n",
    "\n",
    "# ensure that any edits to libraries\n",
    "# are reloaded automatically\n",
    "%reload_ext autoreload\n",
    "%autoreload 2"
   ]
  },
  {
   "cell_type": "code",
   "execution_count": 2,
   "metadata": {},
   "outputs": [],
   "source": [
    "# make cuda_slic importable from the notebook directory\n",
    "import sys\n",
    "sys.path.append(\"./..\")"
   ]
  },
  {
   "cell_type": "code",
   "execution_count": 3,
   "metadata": {},
   "outputs": [],
   "source": [
    "# does not work for some reason\n",
    "\n",
    "# this environment variable must be set in the same bash session\n",
    "# that the jupyter notebook is being launched from\n",
    "#%set_env PYCUDA_DEFAULT_NVCC_FLAGS=\"-g -G\""
   ]
  },
  {
   "cell_type": "code",
   "execution_count": 4,
   "metadata": {},
   "outputs": [],
   "source": [
    "import pycuda"
   ]
  },
  {
   "cell_type": "code",
   "execution_count": 5,
   "metadata": {},
   "outputs": [],
   "source": [
    "from cuda_slic.slic import slic3d as cuda_slic"
   ]
  },
  {
   "cell_type": "code",
   "execution_count": 6,
   "metadata": {},
   "outputs": [],
   "source": [
    "import numpy as np\n",
    "from skimage import data, color, filters, segmentation\n",
    "from skimage.util import img_as_float32, img_as_float64\n",
    "from skimage.segmentation import slic as sk_slic\n",
    "from skimage.segmentation import mark_boundaries\n",
    "\n",
    "import matplotlib.pyplot as plt\n",
    "from ipywidgets import interact"
   ]
  },
  {
   "cell_type": "markdown",
   "metadata": {},
   "source": [
    "Using `cuda-gdb`, set a breakpint such as `break init_clusters` then run the following code block."
   ]
  },
  {
   "cell_type": "code",
   "execution_count": 7,
   "metadata": {},
   "outputs": [],
   "source": [
    "# initializing a 3 dim dataset\n",
    "\n",
    "blob = data.binary_blobs(length=20, n_dim=3, seed=2)\n",
    "blob = np.float32(blob)\n",
    "\n",
    "cuda_labels = cuda_slic(blob, n_segments=4, compactness=.5)\n"
   ]
  },
  {
   "cell_type": "code",
   "execution_count": 8,
   "metadata": {},
   "outputs": [],
   "source": [
    "pycuda.autoinit.context.detach()"
   ]
  },
  {
   "cell_type": "markdown",
   "metadata": {},
   "source": [
    "lets explore the segmentation of the whole 3D array"
   ]
  }
 ],
 "metadata": {
  "kernelspec": {
   "display_name": "Python 3",
   "language": "python",
   "name": "python3"
  },
  "language_info": {
   "codemirror_mode": {
    "name": "ipython",
    "version": 3
   },
   "file_extension": ".py",
   "mimetype": "text/x-python",
   "name": "python",
   "nbconvert_exporter": "python",
   "pygments_lexer": "ipython3",
   "version": "3.7.6"
  }
 },
 "nbformat": 4,
 "nbformat_minor": 4
}
