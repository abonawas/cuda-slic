{
 "cells": [
  {
   "cell_type": "code",
   "execution_count": 1,
   "metadata": {},
   "outputs": [],
   "source": [
    "%matplotlib inline\n",
    "\n",
    "# ensure that any edits to libraries\n",
    "# are reloaded automatically\n",
    "%reload_ext autoreload\n",
    "%autoreload 2"
   ]
  },
  {
   "cell_type": "code",
   "execution_count": 2,
   "metadata": {},
   "outputs": [],
   "source": [
    "# make cuda_slic importable\n",
    "import sys\n",
    "sys.path.append(\"./../src/\")"
   ]
  },
  {
   "cell_type": "code",
   "execution_count": 3,
   "metadata": {},
   "outputs": [],
   "source": [
    "from cuda_slic.slic import slic as cuda_slic"
   ]
  },
  {
   "cell_type": "code",
   "execution_count": 4,
   "metadata": {},
   "outputs": [],
   "source": [
    "import numpy as np\n",
    "from skimage import data, color, filters, segmentation\n",
    "from skimage.util import img_as_float32, img_as_float64\n",
    "from skimage.segmentation import slic as sk_slic"
   ]
  },
  {
   "cell_type": "markdown",
   "metadata": {},
   "source": [
    "## Cuda SLIC Failiure Modes\n",
    "**NOTE:** all of these bugs are fixed now but I am keeping this notebook for documentation purposes.\n",
    "\n",
    "\n",
    "From playing around with the parameters I was able to discover a few inputs that causes the cuda_slic algorithm to throw an error."
   ]
  },
  {
   "cell_type": "code",
   "execution_count": 5,
   "metadata": {},
   "outputs": [],
   "source": [
    "RUN_TESTS = True"
   ]
  },
  {
   "cell_type": "markdown",
   "metadata": {},
   "source": [
    "### 1. input array (500, 500, 500), nps>50_000, compactness=30:\n",
    "\n",
    "This usually throughs a `LogicError` exception. When it fails, it leaves memory residue in the GPU that is not cleaned up unless you terminate the pyhton process. \n",
    "\n",
    "This error is sometimes generated from the cuda compilation step of the `ccl.py` and sometimes form `slic.py`\n",
    "\n",
    "Further complicating things the algorithm does not fail reliably with these inputs!!\n",
    "However, I was able to make it fail reliably with `nps=500_000`. This indicates that the failiure rate is related to the the `nps` parameter.\n"
   ]
  },
  {
   "cell_type": "code",
   "execution_count": 6,
   "metadata": {},
   "outputs": [
    {
     "name": "stdout",
     "output_type": "stream",
     "text": [
      "360000\n"
     ]
    }
   ],
   "source": [
    "if RUN_TESTS:\n",
    "    blob = data.binary_blobs(length=600, n_dim=3, seed=2)\n",
    "    blob = np.float32(blob)\n",
    "    cuda_labels = cuda_slic(blob, n_segments=5_000_000, compactness=0.5)\n",
    "    print(len(np.unique(cuda_labels)))"
   ]
  },
  {
   "cell_type": "markdown",
   "metadata": {},
   "source": [
    "\n",
    "```\n",
    "---------------------------------------------------------------------------\n",
    "LogicError                                Traceback (most recent call last)\n",
    "<ipython-input-39-ad381aadb072> in <module>\n",
    "      1 blob = data.binary_blobs(length=500, n_dim=3, seed=2)\n",
    "      2 blob = img_as_float32(blob)\n",
    "----> 3 cuda_labels = cuda_slic(blob, nsp=50_000, compactness=30)\n",
    "      4 print(len(np.unique(cuda_labels)))\n",
    "\n",
    "~/Projects/gpu-slic/survos2/improc/utils.py in wrapper(out, src_mode, *args, **kwargs)\n",
    "    563                          fillvalue=fillvalue, src_mode=src_mode)\n",
    "    564         with DatasetManager(*args, **dm_params) as DM:\n",
    "--> 565             result = func(*DM.sources, **kwargs)\n",
    "    566             if out is not None:\n",
    "    567                 DM.out[...] = result\n",
    "\n",
    "~/Projects/gpu-slic/survos2/improc/cuda.py in wrapper(keep_gpu, *args, **kwargs)\n",
    "     37     @wraps(func)\n",
    "     38     def wrapper(*args, keep_gpu=False, **kwargs):\n",
    "---> 39         r = func(*args, **kwargs)\n",
    "     40         return asgpuarray(r, dtype) if keep_gpu else asnparray(r, dtype)\n",
    "     41     return wrapper\n",
    "\n",
    "~/Projects/gpu-slic/survos2/improc/regions/slic.py in slic3d(data, nsp, sp_shape, compactness, sigma, spacing, max_iter, postprocess)\n",
    "     29 \n",
    "     30     with open(op.join(__dirname__, 'kernels', 'slic3d.cu'), 'r') as f:\n",
    "---> 31         _mod_conv = SourceModule(f.read())\n",
    "     32         gpu_slic_init = _mod_conv.get_function('init_clusters')\n",
    "     33         gpu_slic_expectation = _mod_conv.get_function('expectation')\n",
    "\n",
    "/scratch/ovs72384/anaconda3/envs/gpu-slic/lib/python3.7/site-packages/pycuda/compiler.py in __init__(self, source, nvcc, options, keep, no_extern_c, arch, code, cache_dir, include_dirs)\n",
    "    292 \n",
    "    293         from pycuda.driver import module_from_buffer\n",
    "--> 294         self.module = module_from_buffer(cubin)\n",
    "    295 \n",
    "    296         self._bind_module()\n",
    "\n",
    "LogicError: cuModuleLoadDataEx failed: an illegal memory access was encountered -\n",
    "```"
   ]
  },
  {
   "cell_type": "markdown",
   "metadata": {},
   "source": [
    "Interestingly, `sk_slic` drops out and refuses to segment the array to more than 250_000 groups. For example"
   ]
  },
  {
   "cell_type": "code",
   "execution_count": 7,
   "metadata": {},
   "outputs": [
    {
     "name": "stderr",
     "output_type": "stream",
     "text": [
      "/scratch/ovs72384/anaconda3/envs/cuda-slic/lib/python3.7/site-packages/ipykernel_launcher.py:1: FutureWarning: skimage.measure.label's indexing starts from 0. In future version it will start from 1. To disable this warning, explicitely set the `start_label` parameter to 1.\n",
      "  \"\"\"Entry point for launching an IPython kernel.\n"
     ]
    },
    {
     "name": "stdout",
     "output_type": "stream",
     "text": [
      "360000\n"
     ]
    }
   ],
   "source": [
    "sk_labels = sk_slic(blob, n_segments=5_000_000, compactness=1)\n",
    "print(len(np.unique(sk_labels))) #250000"
   ]
  },
  {
   "cell_type": "markdown",
   "metadata": {},
   "source": [
    "\n",
    "\n",
    "### 2. input array of size less than (32, 32, 32) fails with \"`IndexError`: too many indices for array\""
   ]
  },
  {
   "cell_type": "code",
   "execution_count": 8,
   "metadata": {
    "scrolled": true
   },
   "outputs": [
    {
     "name": "stdout",
     "output_type": "stream",
     "text": [
      "1\n"
     ]
    }
   ],
   "source": [
    "if RUN_TESTS:\n",
    "    blob = data.binary_blobs(length=32, n_dim=3, seed=2)\n",
    "    blob = np.float32(blob)\n",
    "    cuda_labels = cuda_slic(blob, n_segments=2, compactness=0.5)\n",
    "    print(len(np.unique(cuda_labels)))"
   ]
  },
  {
   "cell_type": "markdown",
   "metadata": {},
   "source": [
    "```\n",
    "---------------------------------------------------------------------------\n",
    "IndexError                                Traceback (most recent call last)\n",
    "<ipython-input-22-0316eb65c967> in <module>\n",
    "      1 blob = data.binary_blobs(length=31, n_dim=3, seed=2)\n",
    "      2 blob = img_as_float32(blob)\n",
    "----> 3 cuda_labels = cuda_slic(blob, nsp=10, compactness=30)\n",
    "      4 print(len(np.unique(cuda_labels)))\n",
    "\n",
    "~/Projects/gpu-slic/survos2/improc/utils.py in wrapper(out, src_mode, *args, **kwargs)\n",
    "    563                          fillvalue=fillvalue, src_mode=src_mode)\n",
    "    564         with DatasetManager(*args, **dm_params) as DM:\n",
    "--> 565             result = func(*DM.sources, **kwargs)\n",
    "    566             if out is not None:\n",
    "    567                 DM.out[...] = result\n",
    "\n",
    "~/Projects/gpu-slic/survos2/improc/cuda.py in wrapper(keep_gpu, *args, **kwargs)\n",
    "     37     @wraps(func)\n",
    "     38     def wrapper(*args, keep_gpu=False, **kwargs):\n",
    "---> 39         r = func(*args, **kwargs)\n",
    "     40         return asgpuarray(r, dtype) if keep_gpu else asnparray(r, dtype)\n",
    "     41     return wrapper\n",
    "\n",
    "~/Projects/gpu-slic/survos2/improc/regions/slic.py in slic3d(data, nsp, sp_shape, compactness, sigma, spacing, max_iter, postprocess)\n",
    "     85     if postprocess:\n",
    "     86         min_size = int(np.prod(_sp_shape) / 10.)\n",
    "---> 87         r = merge_small(asnparray(data), r, min_size)\n",
    "     88         binlab = np.bincount(r.ravel())\n",
    "     89 \n",
    "\n",
    "~/Projects/gpu-slic/survos2/improc/utils.py in wrapper(out, src_mode, *args, **kwargs)\n",
    "    563                          fillvalue=fillvalue, src_mode=src_mode)\n",
    "    564         with DatasetManager(*args, **dm_params) as DM:\n",
    "--> 565             result = func(*DM.sources, **kwargs)\n",
    "    566             if out is not None:\n",
    "    567                 DM.out[...] = result\n",
    "\n",
    "~/Projects/gpu-slic/survos2/improc/utils.py in wrapper(*args, **kwargs)\n",
    "    517     @wraps(func)\n",
    "    518     def wrapper(*args, **kwargs):\n",
    "--> 519         r = func(*args, **kwargs)\n",
    "    520         return r is None or asnparray(r, dtype=dtype)\n",
    "    521     return wrapper\n",
    "\n",
    "~/Projects/gpu-slic/survos2/improc/regions/ccl.py in merge_small(data, labels, min_size, **kwargs)\n",
    "     80         data = data[..., None]\n",
    "     81     assert data.ndim == labels.ndim + 1\n",
    "---> 82     return _merge_small3d(data, labels, labels.max()+1, min_size)\n",
    "     83 \n",
    "     84 \n",
    "\n",
    "~/Projects/gpu-slic/survos2/improc/regions/_ccl.pyx in improc.superregions._ccl._merge_small3d()\n",
    "\n",
    "IndexError: too many indices for array\n",
    "\n",
    "```"
   ]
  },
  {
   "cell_type": "code",
   "execution_count": 9,
   "metadata": {},
   "outputs": [],
   "source": [
    "## 3. lets check if the code is diterministic"
   ]
  },
  {
   "cell_type": "code",
   "execution_count": 14,
   "metadata": {},
   "outputs": [
    {
     "name": "stdout",
     "output_type": "stream",
     "text": [
      "[True, False, True, True, True, True, True, True, True, True]\n"
     ]
    }
   ],
   "source": [
    "if RUN_TESTS:\n",
    "    blob = data.binary_blobs(length=10, n_dim=3, seed=2)\n",
    "    blob = np.float32(blob)\n",
    "    all_close = []\n",
    "    for i in range(10):\n",
    "        cuda_labels1 = cuda_slic(blob, n_segments=100, compactness=0.1, enforce_connectivity=False)\n",
    "        cuda_labels2 = cuda_slic(blob, n_segments=100, compactness=0.1, enforce_connectivity=False)\n",
    "        all_close.append((cuda_labels1 == cuda_labels2).all())\n",
    "    print(all_close)"
   ]
  },
  {
   "cell_type": "markdown",
   "metadata": {},
   "source": [
    "```\n",
    "---------------------------------------------------------------------------\n",
    "AssertionError                            Traceback (most recent call last)\n",
    "<ipython-input-38-af438af83248> in <module>\n",
    "      4 cuda_labels2 = cuda_slic(blob, nsp=32, compactness=30)\n",
    "      5 \n",
    "----> 6 assert np.allclose(cuda_labels1, cuda_labels2)\n",
    "\n",
    "AssertionError: \n",
    "```\n",
    "\n",
    "as expected. This basically confirms to me that there are memory race errors in the code.\n",
    "\n",
    "This is likely related to Faliure mode 1. as you expect data races not to raise errors under\n",
    "ordinary circomstances."
   ]
  },
  {
   "cell_type": "markdown",
   "metadata": {},
   "source": [
    "## Performance Benchmarks\n",
    "Performance characteristics can reveal important bugs in the code base. So lets see how `cuda_slic` and `sk_slic` compare.\n",
    "\n",
    "Running these benchmarks uncovered errors when the cuda_slic functin is run consecutively with many different inputs.\n",
    "This indicates that the GPU memory is retaining state from previous calls that cause a subsequent kernel calls to fail.\n",
    "\n",
    "Lets keep a record of this data:"
   ]
  },
  {
   "cell_type": "code",
   "execution_count": 15,
   "metadata": {},
   "outputs": [],
   "source": [
    "import pandas as pd"
   ]
  },
  {
   "cell_type": "code",
   "execution_count": null,
   "metadata": {
    "scrolled": false
   },
   "outputs": [
    {
     "name": "stdout",
     "output_type": "stream",
     "text": [
      "cuda time for length 100:\n",
      "134 ms ± 0 ns per loop (mean ± std. dev. of 1 run, 1 loop each)\n",
      "skimage time for length 100:\n",
      "1.22 s ± 0 ns per loop (mean ± std. dev. of 1 run, 1 loop each)\n",
      "cuda time for length 200:\n",
      "765 ms ± 0 ns per loop (mean ± std. dev. of 1 run, 1 loop each)\n",
      "skimage time for length 200:\n",
      "10.3 s ± 0 ns per loop (mean ± std. dev. of 1 run, 1 loop each)\n",
      "cuda time for length 300:\n",
      "2.26 s ± 0 ns per loop (mean ± std. dev. of 1 run, 1 loop each)\n",
      "skimage time for length 300:\n",
      "34.7 s ± 0 ns per loop (mean ± std. dev. of 1 run, 1 loop each)\n",
      "cuda time for length 400:\n",
      "4.98 s ± 0 ns per loop (mean ± std. dev. of 1 run, 1 loop each)\n",
      "skimage time for length 400:\n",
      "1min 21s ± 0 ns per loop (mean ± std. dev. of 1 run, 1 loop each)\n",
      "cuda time for length 500:\n",
      "9.42 s ± 0 ns per loop (mean ± std. dev. of 1 run, 1 loop each)\n",
      "skimage time for length 500:\n"
     ]
    }
   ],
   "source": [
    "DO_BENCHMARK = True\n",
    "SAVE_BENCHMARK = False\n",
    "\n",
    "def generate_benchmark():\n",
    "    df = pd.DataFrame(columns=[\"bytes\", \"n_segments\", \"cuda_time\", \"skimage_time\"])\n",
    "    lengths = [100, 200, 300, 400, 500]\n",
    "    #lengths = range(100, 450,30)\n",
    "    for i in range(len(lengths)):\n",
    "        row = []\n",
    "        row.append(lengths[i]**3*4) #number of bytes to be processed\n",
    "        n_segments = lengths[i]**3/3**3\n",
    "        row.append(n_segments)\n",
    "        blob = data.binary_blobs(length=lengths[i], n_dim=3, seed=2)\n",
    "        blob = np.float32(blob)\n",
    "        print(f\"cuda time for length {lengths[i]}:\")\n",
    "        measurement1 = %timeit -n1 -r1 -o cuda_slic(blob, n_segments=n_segments, multichannel=False, compactness=1)\n",
    "        row.append(measurement1.average)\n",
    "        print(f\"skimage time for length {lengths[i]}:\")\n",
    "        measurement2 = %timeit -n1 -r1 -o sk_slic(blob, n_segments=n_segments, \\\n",
    "                                                  compactness=1, multichannel=False, \\\n",
    "                                                  max_iter=5, start_label=1)\n",
    "        row.append(measurement2.average)\n",
    "        df.loc[i] = row\n",
    "    return df\n",
    "if DO_BENCHMARK:\n",
    "    df = generate_benchmark()"
   ]
  },
  {
   "cell_type": "code",
   "execution_count": null,
   "metadata": {},
   "outputs": [],
   "source": []
  }
 ],
 "metadata": {
  "kernelspec": {
   "display_name": "Python 3",
   "language": "python",
   "name": "python3"
  },
  "language_info": {
   "codemirror_mode": {
    "name": "ipython",
    "version": 3
   },
   "file_extension": ".py",
   "mimetype": "text/x-python",
   "name": "python",
   "nbconvert_exporter": "python",
   "pygments_lexer": "ipython3",
   "version": "3.7.8"
  }
 },
 "nbformat": 4,
 "nbformat_minor": 4
}
