{
 "cells": [
  {
   "cell_type": "code",
   "execution_count": 1,
   "metadata": {},
   "outputs": [],
   "source": [
    "%matplotlib inline"
   ]
  },
  {
   "cell_type": "code",
   "execution_count": 2,
   "metadata": {},
   "outputs": [],
   "source": [
    "# make survos2 importable\n",
    "import sys\n",
    "sys.path.append(\"./..\")"
   ]
  },
  {
   "cell_type": "markdown",
   "metadata": {},
   "source": [
    "lets explore the siniture, return values and types"
   ]
  },
  {
   "cell_type": "code",
   "execution_count": 3,
   "metadata": {},
   "outputs": [],
   "source": [
    "from survos2.data import embrain\n",
    "from survos2.improc.features import gaussian\n",
    "from survos2.improc.regions.slic import slic3d"
   ]
  },
  {
   "cell_type": "code",
   "execution_count": 4,
   "metadata": {},
   "outputs": [],
   "source": [
    "import numpy as np\n",
    "from skimage import data, color, filters, segmentation\n",
    "from skimage.util import img_as_float32, img_as_float64\n",
    "from skimage.segmentation import slic as skslic\n",
    "from skimage.segmentation import mark_boundaries\n",
    "\n",
    "import matplotlib.pyplot as plt\n",
    "from ipywidgets import interact\n",
    "import time"
   ]
  },
  {
   "cell_type": "code",
   "execution_count": 5,
   "metadata": {
    "scrolled": false
   },
   "outputs": [
    {
     "name": "stdout",
     "output_type": "stream",
     "text": [
      "86.86004042625427\n"
     ]
    }
   ],
   "source": [
    "blob = data.binary_blobs(length=412, n_dim=3, seed=2)\n",
    "blob = img_as_float32(blob)\n",
    "s = time.time()\n",
    "labels = slic3d(blob, nsp=100, compactness=10)\n",
    "print(time.time()-s)"
   ]
  },
  {
   "cell_type": "code",
   "execution_count": 6,
   "metadata": {},
   "outputs": [
    {
     "name": "stdout",
     "output_type": "stream",
     "text": [
      "82.25755143165588\n"
     ]
    },
    {
     "data": {
      "text/plain": [
       "<matplotlib.image.AxesImage at 0x7effbffdf7f0>"
      ]
     },
     "execution_count": 6,
     "metadata": {},
     "output_type": "execute_result"
    },
    {
     "data": {
      "image/png": "[encoded data removed]",
      "text/plain": [
       "<Figure size 432x288 with 1 Axes>"
      ]
     },
     "metadata": {
      "needs_background": "light"
     },
     "output_type": "display_data"
    }
   ],
   "source": [
    "blob = img_as_float64(blob)\n",
    "s = time.time()\n",
    "labels = skslic(blob, n_segments=200, compactness=1,  multichannel=False)\n",
    "print(time.time()-s)\n",
    "plt.imshow(labels[...,1])"
   ]
  },
  {
   "cell_type": "code",
   "execution_count": 7,
   "metadata": {},
   "outputs": [],
   "source": [
    "marked_blob = mark_boundaries(color.gray2rgb(blob), labels)"
   ]
  },
  {
   "cell_type": "code",
   "execution_count": 8,
   "metadata": {},
   "outputs": [],
   "source": [
    "def plot_slice(images, z, titles=None, cols=2):\n",
    "    rows = (len(images)+cols-1)//cols\n",
    "    fig, axes = plt.subplots(rows, cols, figsize=(cols*8, rows*8))\n",
    "    for i in range(len(images)):\n",
    "        axes[i].imshow(images[i][:,:,z])\n",
    "        axes[i].axis('off')\n",
    "        if titles:\n",
    "            axes[i].set_title(titles[i], size=32)"
   ]
  },
  {
   "cell_type": "code",
   "execution_count": 13,
   "metadata": {
    "scrolled": false
   },
   "outputs": [
    {
     "data": {
      "application/vnd.jupyter.widget-view+json": {
       "model_id": "004eb4fca5014c82bdae8441a5e2669c",
       "version_major": 2,
       "version_minor": 0
      },
      "text/plain": [
       "interactive(children=(IntSlider(value=0, description='z', max=99), Output()), _dom_classes=('widget-interact',…"
      ]
     },
     "metadata": {},
     "output_type": "display_data"
    },
    {
     "data": {
      "text/plain": [
       "<function __main__.plot_slice(images, z, titles=None, cols=2)>"
      ]
     },
     "execution_count": 13,
     "metadata": {},
     "output_type": "execute_result"
    }
   ],
   "source": [
    "from ipywidgets import IntSlider, fixed\n",
    "interact(plot_slice, images=fixed([marked_blob, blob]), titles=fixed(None), z=IntSlider(min=0, max=99), cols=fixed(2))"
   ]
  },
  {
   "cell_type": "code",
   "execution_count": 14,
   "metadata": {},
   "outputs": [],
   "source": [
    "blob = data.binary_blobs(length=300, n_dim=3, seed=2)\n",
    "blob = filters.gaussian(blob)\n",
    "blob = blob[:,:,:10]"
   ]
  },
  {
   "cell_type": "code",
   "execution_count": 15,
   "metadata": {},
   "outputs": [],
   "source": [
    "def compare_slic_algos(c1, c2, n_segments=100, z=0):\n",
    "    labels1 = slic3d(img_as_float32(blob), nsp=n_segments, compactness=c1)\n",
    "    labels2 = skslic(blob, n_segments=n_segments, compactness=c2, multichannel=False)\n",
    "    marked_blob1 = mark_boundaries(color.gray2rgb(blob), labels1, color=(0.2, 1, 0))\n",
    "    marked_blob2 = mark_boundaries(color.gray2rgb(blob), labels2, color=(1, 0.7, 0))\n",
    "    plot_slice([marked_blob1, marked_blob2], z=z, titles=[\"cuda-slic\", \"skimage-slic\"])"
   ]
  },
  {
   "cell_type": "code",
   "execution_count": 17,
   "metadata": {},
   "outputs": [
    {
     "data": {
      "application/vnd.jupyter.widget-view+json": {
       "model_id": "a74a7092248443c09b1730565b2e1c9f",
       "version_major": 2,
       "version_minor": 0
      },
      "text/plain": [
       "interactive(children=(FloatSlider(value=249.991, description='c1', max=500.0, min=0.001, step=0.01), FloatSlid…"
      ]
     },
     "metadata": {},
     "output_type": "display_data"
    },
    {
     "data": {
      "text/plain": [
       "<function __main__.compare_slic_algos(c1, c2, n_segments=100, z=0)>"
      ]
     },
     "execution_count": 17,
     "metadata": {},
     "output_type": "execute_result"
    }
   ],
   "source": [
    "interact(compare_slic_algos,\n",
    "         c1=(0.001,500,0.01),\n",
    "         c2=(0.001,2.0,0.001),\n",
    "         n_segments=(5,5000),\n",
    "         z=IntSlider(min=0, max=9))"
   ]
  },
  {
   "cell_type": "code",
   "execution_count": null,
   "metadata": {},
   "outputs": [],
   "source": []
  },
  {
   "cell_type": "code",
   "execution_count": null,
   "metadata": {},
   "outputs": [],
   "source": []
  },
  {
   "cell_type": "code",
   "execution_count": null,
   "metadata": {},
   "outputs": [],
   "source": []
  },
  {
   "cell_type": "code",
   "execution_count": null,
   "metadata": {},
   "outputs": [],
   "source": []
  }
 ],
 "metadata": {
  "kernelspec": {
   "display_name": "Python 3",
   "language": "python",
   "name": "python3"
  },
  "language_info": {
   "codemirror_mode": {
    "name": "ipython",
    "version": 3
   },
   "file_extension": ".py",
   "mimetype": "text/x-python",
   "name": "python",
   "nbconvert_exporter": "python",
   "pygments_lexer": "ipython3",
   "version": "3.6.10"
  }
 },
 "nbformat": 4,
 "nbformat_minor": 4
}
