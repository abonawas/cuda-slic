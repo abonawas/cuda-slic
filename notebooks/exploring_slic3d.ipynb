{
 "cells": [
  {
   "cell_type": "code",
   "execution_count": 1,
   "metadata": {},
   "outputs": [],
   "source": [
    "%matplotlib inline"
   ]
  },
  {
   "cell_type": "code",
   "execution_count": 2,
   "metadata": {},
   "outputs": [],
   "source": [
    "# make survos2 importable\n",
    "import sys\n",
    "sys.path.append(\"./..\")"
   ]
  },
  {
   "cell_type": "markdown",
   "metadata": {},
   "source": [
    "lets import the relavent functions"
   ]
  },
  {
   "cell_type": "code",
   "execution_count": 3,
   "metadata": {},
   "outputs": [],
   "source": [
    "from survos2.improc.regions.slic import slic3d as cuda_slic"
   ]
  },
  {
   "cell_type": "code",
   "execution_count": 4,
   "metadata": {},
   "outputs": [],
   "source": [
    "import numpy as np\n",
    "from skimage import data, color, filters, segmentation\n",
    "from skimage.util import img_as_float32, img_as_float64\n",
    "from skimage.segmentation import slic as sk_slic\n",
    "from skimage.segmentation import mark_boundaries\n",
    "\n",
    "import matplotlib.pyplot as plt\n",
    "from ipywidgets import interact"
   ]
  },
  {
   "cell_type": "markdown",
   "metadata": {},
   "source": [
    "Comparing speed between cuda-slic and skslic"
   ]
  },
  {
   "cell_type": "code",
   "execution_count": 5,
   "metadata": {},
   "outputs": [
    {
     "name": "stdout",
     "output_type": "stream",
     "text": [
      "cuda_slic took:\n",
      "1.29 s ± 0 ns per loop (mean ± std. dev. of 1 run, 1 loop each)\n",
      "sk_slic took:\n",
      "1.22 s ± 0 ns per loop (mean ± std. dev. of 1 run, 1 loop each)\n"
     ]
    },
    {
     "data": {
      "image/png": "[encoded data removed]",
      "text/plain": [
       "<Figure size 1152x576 with 2 Axes>"
      ]
     },
     "metadata": {
      "needs_background": "light"
     },
     "output_type": "display_data"
    }
   ],
   "source": [
    "# initializing a 3 dim dataset\n",
    "blob = data.binary_blobs(length=100, n_dim=3, seed=2)\n",
    "blob = img_as_float32(blob)\n",
    "\n",
    "print(\"cuda_slic took:\")\n",
    "%timeit -n1 -r1 cuda_labels = cuda_slic(blob, nsp=200, compactness=30)\n",
    "cuda_labels = cuda_slic(blob, nsp=200, compactness=30)\n",
    "\n",
    "#blob = img_as_float64(blob)\n",
    "print(\"sk_slic took:\")\n",
    "%timeit -n1 -r1 sk_labels = sk_slic(blob, n_segments=200, compactness=1,  multichannel=False)\n",
    "sk_labels = sk_slic(blob, n_segments=200, compactness=1,  multichannel=False)\n",
    "\n",
    "fig, (ax1, ax2) = plt.subplots(1,2,figsize=(16,8))\n",
    "ax1.imshow(cuda_labels[:,:,0]); ax1.axis(\"off\"); ax1.set_title(\"cuda labels\", size=22);\n",
    "ax2.imshow(sk_labels[...,0]); ax2.axis(\"off\"); ax2.set_title(\"sk labels\", size=22);"
   ]
  },
  {
   "cell_type": "markdown",
   "metadata": {},
   "source": [
    "lets explore the segmentation of the whole 3D array"
   ]
  },
  {
   "cell_type": "code",
   "execution_count": 6,
   "metadata": {},
   "outputs": [],
   "source": [
    "marked_cuda = mark_boundaries(color.gray2rgb(blob), cuda_labels)\n",
    "marked_sk = mark_boundaries(color.gray2rgb(blob), sk_labels)"
   ]
  },
  {
   "cell_type": "code",
   "execution_count": 7,
   "metadata": {},
   "outputs": [],
   "source": [
    "def plot_slice(images, z, cols=2, ax_size=5, titles=None):\n",
    "    rows = (len(images)+cols-1)//cols\n",
    "    fig, axes = plt.subplots(rows, cols, figsize=(cols*ax_size, rows*ax_size))\n",
    "    axes = axes.flatten()\n",
    "    for ax in axes:\n",
    "        ax.axis('off')\n",
    "    for i in range(len(images)):\n",
    "        axes[i].imshow(images[i][:,:,z])\n",
    "        if titles:\n",
    "            axes[i].set_title(titles[i], size=32)\n",
    "    plt.tight_layout()"
   ]
  },
  {
   "cell_type": "code",
   "execution_count": 8,
   "metadata": {
    "scrolled": false
   },
   "outputs": [
    {
     "data": {
      "application/vnd.jupyter.widget-view+json": {
       "model_id": "e343d8ced9374772a31b943f47bb151c",
       "version_major": 2,
       "version_minor": 0
      },
      "text/plain": [
       "interactive(children=(IntSlider(value=0, description='z', max=99), IntSlider(value=2, description='cols', max=…"
      ]
     },
     "metadata": {},
     "output_type": "display_data"
    }
   ],
   "source": [
    "from ipywidgets import IntSlider, fixed\n",
    "interact(plot_slice,\n",
    "         images=fixed([cuda_labels, marked_cuda, sk_labels, marked_sk]),\n",
    "         titles=fixed(None),\n",
    "         z=IntSlider(min=0, max=99),\n",
    "         ax_size=(2,20),\n",
    "         cols=(1,6));"
   ]
  },
  {
   "cell_type": "markdown",
   "metadata": {},
   "source": [
    "exploring the `n_segments` parameter and `compactness` parameter for cuda_slic and sk_slic"
   ]
  },
  {
   "cell_type": "code",
   "execution_count": 9,
   "metadata": {},
   "outputs": [],
   "source": [
    "blob = data.binary_blobs(length=33, n_dim=3, seed=2)\n",
    "blob = filters.gaussian(blob)\n",
    "blob = blob[:,:,:10]\n",
    "#blob = filters.gaussian(blob)\n",
    "blob = img_as_float32(blob)"
   ]
  },
  {
   "cell_type": "code",
   "execution_count": 10,
   "metadata": {},
   "outputs": [],
   "source": [
    "def compare_slic_algos(cuda_c, sk_c, n_segments=100, z=0):\n",
    "    cuda_labels = cuda_slic(blob, nsp=n_segments, compactness=cuda_c)\n",
    "    sk_labels = sk_slic(blob, n_segments=n_segments, compactness=sk_c, multichannel=False)\n",
    "    marked_blob_cuda = mark_boundaries(color.gray2rgb(blob), cuda_labels, color=(0.2, 1, 0))\n",
    "    marked_blob_sk = mark_boundaries(color.gray2rgb(blob), sk_labels, color=(1, 0.7, 0))\n",
    "    plot_slice([cuda_labels, sk_labels, marked_blob_cuda, marked_blob_sk,],\n",
    "               z=z,\n",
    "               ax_size=4,\n",
    "               titles=[\"cuda-slic\", \"skimage-slic\", \"cuda-slic\", \"skimage-slic\"])"
   ]
  },
  {
   "cell_type": "code",
   "execution_count": 11,
   "metadata": {},
   "outputs": [
    {
     "data": {
      "application/vnd.jupyter.widget-view+json": {
       "model_id": "056e0cb5c8de439aad2b29e73c057fa7",
       "version_major": 2,
       "version_minor": 0
      },
      "text/plain": [
       "interactive(children=(FloatSlider(value=149.991, description='cuda_c', max=300.0, min=0.001, step=0.01), Float…"
      ]
     },
     "metadata": {},
     "output_type": "display_data"
    }
   ],
   "source": [
    "interact(compare_slic_algos,\n",
    "         cuda_c=(0.001,300,0.01),\n",
    "         sk_c=(0.001,5.0,0.001),\n",
    "         n_segments=(5,5000),\n",
    "         z=IntSlider(min=0, max=9));"
   ]
  },
  {
   "cell_type": "markdown",
   "metadata": {},
   "source": [
    "## Cuda SLIC Failiure Modes\n",
    "From playing around with the parameters I was able to discover a few inputs that causes the cuda_slic algorithm to throw an error."
   ]
  },
  {
   "cell_type": "code",
   "execution_count": 12,
   "metadata": {},
   "outputs": [],
   "source": [
    "RUN_TESTS = False"
   ]
  },
  {
   "cell_type": "markdown",
   "metadata": {},
   "source": [
    "### 1. input array (500, 500, 500), nps>50_000, compactness=30:\n",
    "\n",
    "This usually throughs a `LogicError` exception. When it fails, it leaves memory residue in the GPU that is not cleaned up unless you terminate the pyhton process. \n",
    "\n",
    "This error is sometimes generated from the cuda compilation step of the `ccl.py` and sometimes form `slic.py`\n",
    "\n",
    "Further complicating things the algorithm does not fail reliably with these inputs!!\n",
    "However, I was able to make it fail reliably with `nps=500_000`. This indicates that the failiure rate is related to the the `nps` parameter.\n"
   ]
  },
  {
   "cell_type": "code",
   "execution_count": 13,
   "metadata": {},
   "outputs": [],
   "source": [
    "if RUN_TESTS:\n",
    "    blob = data.binary_blobs(length=500, n_dim=3, seed=2)\n",
    "    blob = img_as_float32(blob)\n",
    "    cuda_labels = cuda_slic(blob, nsp=50_000, compactness=30)\n",
    "    print(len(np.unique(cuda_labels)))\n"
   ]
  },
  {
   "cell_type": "markdown",
   "metadata": {},
   "source": [
    "\n",
    "```\n",
    "---------------------------------------------------------------------------\n",
    "LogicError                                Traceback (most recent call last)\n",
    "<ipython-input-39-ad381aadb072> in <module>\n",
    "      1 blob = data.binary_blobs(length=500, n_dim=3, seed=2)\n",
    "      2 blob = img_as_float32(blob)\n",
    "----> 3 cuda_labels = cuda_slic(blob, nsp=50_000, compactness=30)\n",
    "      4 print(len(np.unique(cuda_labels)))\n",
    "\n",
    "~/Projects/gpu-slic/survos2/improc/utils.py in wrapper(out, src_mode, *args, **kwargs)\n",
    "    563                          fillvalue=fillvalue, src_mode=src_mode)\n",
    "    564         with DatasetManager(*args, **dm_params) as DM:\n",
    "--> 565             result = func(*DM.sources, **kwargs)\n",
    "    566             if out is not None:\n",
    "    567                 DM.out[...] = result\n",
    "\n",
    "~/Projects/gpu-slic/survos2/improc/cuda.py in wrapper(keep_gpu, *args, **kwargs)\n",
    "     37     @wraps(func)\n",
    "     38     def wrapper(*args, keep_gpu=False, **kwargs):\n",
    "---> 39         r = func(*args, **kwargs)\n",
    "     40         return asgpuarray(r, dtype) if keep_gpu else asnparray(r, dtype)\n",
    "     41     return wrapper\n",
    "\n",
    "~/Projects/gpu-slic/survos2/improc/regions/slic.py in slic3d(data, nsp, sp_shape, compactness, sigma, spacing, max_iter, postprocess)\n",
    "     29 \n",
    "     30     with open(op.join(__dirname__, 'kernels', 'slic3d.cu'), 'r') as f:\n",
    "---> 31         _mod_conv = SourceModule(f.read())\n",
    "     32         gpu_slic_init = _mod_conv.get_function('init_clusters')\n",
    "     33         gpu_slic_expectation = _mod_conv.get_function('expectation')\n",
    "\n",
    "/scratch/ovs72384/anaconda3/envs/gpu-slic/lib/python3.7/site-packages/pycuda/compiler.py in __init__(self, source, nvcc, options, keep, no_extern_c, arch, code, cache_dir, include_dirs)\n",
    "    292 \n",
    "    293         from pycuda.driver import module_from_buffer\n",
    "--> 294         self.module = module_from_buffer(cubin)\n",
    "    295 \n",
    "    296         self._bind_module()\n",
    "\n",
    "LogicError: cuModuleLoadDataEx failed: an illegal memory access was encountered -\n",
    "```"
   ]
  },
  {
   "cell_type": "markdown",
   "metadata": {},
   "source": [
    "Interestingly, `sk_slic` drops out and refuses to segment the array to more than 250_000 groups. For example"
   ]
  },
  {
   "cell_type": "code",
   "execution_count": 14,
   "metadata": {},
   "outputs": [],
   "source": [
    "# sk_labels = sk_slic(blob, n_segments=5_000_000, compactness=1)\n",
    "# print(len(np.unique(sk_labels))) #250000"
   ]
  },
  {
   "cell_type": "markdown",
   "metadata": {},
   "source": [
    "\n",
    "\n",
    "### 2. input array of size less than (32, 32, 32) fails with \"`IndexError`: too many indices for array\""
   ]
  },
  {
   "cell_type": "code",
   "execution_count": 15,
   "metadata": {
    "scrolled": true
   },
   "outputs": [],
   "source": [
    "if RUN_TESTS:\n",
    "    blob = data.binary_blobs(length=31, n_dim=3, seed=2)\n",
    "    blob = img_as_float32(blob)\n",
    "    cuda_labels = cuda_slic(blob, nsp=10, compactness=30)\n",
    "    print(len(np.unique(cuda_labels)))"
   ]
  },
  {
   "cell_type": "markdown",
   "metadata": {},
   "source": [
    "```\n",
    "---------------------------------------------------------------------------\n",
    "IndexError                                Traceback (most recent call last)\n",
    "<ipython-input-22-0316eb65c967> in <module>\n",
    "      1 blob = data.binary_blobs(length=31, n_dim=3, seed=2)\n",
    "      2 blob = img_as_float32(blob)\n",
    "----> 3 cuda_labels = cuda_slic(blob, nsp=10, compactness=30)\n",
    "      4 print(len(np.unique(cuda_labels)))\n",
    "\n",
    "~/Projects/gpu-slic/survos2/improc/utils.py in wrapper(out, src_mode, *args, **kwargs)\n",
    "    563                          fillvalue=fillvalue, src_mode=src_mode)\n",
    "    564         with DatasetManager(*args, **dm_params) as DM:\n",
    "--> 565             result = func(*DM.sources, **kwargs)\n",
    "    566             if out is not None:\n",
    "    567                 DM.out[...] = result\n",
    "\n",
    "~/Projects/gpu-slic/survos2/improc/cuda.py in wrapper(keep_gpu, *args, **kwargs)\n",
    "     37     @wraps(func)\n",
    "     38     def wrapper(*args, keep_gpu=False, **kwargs):\n",
    "---> 39         r = func(*args, **kwargs)\n",
    "     40         return asgpuarray(r, dtype) if keep_gpu else asnparray(r, dtype)\n",
    "     41     return wrapper\n",
    "\n",
    "~/Projects/gpu-slic/survos2/improc/regions/slic.py in slic3d(data, nsp, sp_shape, compactness, sigma, spacing, max_iter, postprocess)\n",
    "     85     if postprocess:\n",
    "     86         min_size = int(np.prod(_sp_shape) / 10.)\n",
    "---> 87         r = merge_small(asnparray(data), r, min_size)\n",
    "     88         binlab = np.bincount(r.ravel())\n",
    "     89 \n",
    "\n",
    "~/Projects/gpu-slic/survos2/improc/utils.py in wrapper(out, src_mode, *args, **kwargs)\n",
    "    563                          fillvalue=fillvalue, src_mode=src_mode)\n",
    "    564         with DatasetManager(*args, **dm_params) as DM:\n",
    "--> 565             result = func(*DM.sources, **kwargs)\n",
    "    566             if out is not None:\n",
    "    567                 DM.out[...] = result\n",
    "\n",
    "~/Projects/gpu-slic/survos2/improc/utils.py in wrapper(*args, **kwargs)\n",
    "    517     @wraps(func)\n",
    "    518     def wrapper(*args, **kwargs):\n",
    "--> 519         r = func(*args, **kwargs)\n",
    "    520         return r is None or asnparray(r, dtype=dtype)\n",
    "    521     return wrapper\n",
    "\n",
    "~/Projects/gpu-slic/survos2/improc/regions/ccl.py in merge_small(data, labels, min_size, **kwargs)\n",
    "     80         data = data[..., None]\n",
    "     81     assert data.ndim == labels.ndim + 1\n",
    "---> 82     return _merge_small3d(data, labels, labels.max()+1, min_size)\n",
    "     83 \n",
    "     84 \n",
    "\n",
    "~/Projects/gpu-slic/survos2/improc/regions/_ccl.pyx in improc.superregions._ccl._merge_small3d()\n",
    "\n",
    "IndexError: too many indices for array\n",
    "\n",
    "```"
   ]
  },
  {
   "cell_type": "code",
   "execution_count": 16,
   "metadata": {},
   "outputs": [],
   "source": [
    "## 3. lets check if the code is diterministic"
   ]
  },
  {
   "cell_type": "code",
   "execution_count": 17,
   "metadata": {},
   "outputs": [],
   "source": [
    "if RUN_TESTS:\n",
    "    blob = data.binary_blobs(length=100, n_dim=3, seed=2)\n",
    "    blob = img_as_float32(blob)\n",
    "    all_close = []\n",
    "    for i in range(10):\n",
    "        cuda_labels1 = cuda_slic(blob, nsp=100, compactness=30)\n",
    "        cuda_labels2 = cuda_slic(blob, nsp=100, compactness=30)\n",
    "        all_close.append(np.allclose(cuda_labels1, cuda_labels2))\n",
    "    print(all_close)"
   ]
  },
  {
   "cell_type": "markdown",
   "metadata": {},
   "source": [
    "```\n",
    "---------------------------------------------------------------------------\n",
    "AssertionError                            Traceback (most recent call last)\n",
    "<ipython-input-38-af438af83248> in <module>\n",
    "      4 cuda_labels2 = cuda_slic(blob, nsp=32, compactness=30)\n",
    "      5 \n",
    "----> 6 assert np.allclose(cuda_labels1, cuda_labels2)\n",
    "\n",
    "AssertionError: \n",
    "```\n",
    "\n",
    "as expected. This basically confirms to me that there are memory race errors in the code.\n",
    "\n",
    "This is likely related to Faliure mode 1. as you expect data races not to raise errors under\n",
    "ordinary circomstances."
   ]
  },
  {
   "cell_type": "markdown",
   "metadata": {},
   "source": [
    "## Performance Benchmarks\n",
    "Performance characteristics can reveal important bugs in the code base. So lets see how `cuda_slic` and `sk_slic` compare.\n",
    "\n",
    "Running these benchmarks uncovered errors when the cuda_slic functin is run consecutively with many different inputs.\n",
    "This indicates that the GPU memory is retaining state from previous calls that cause a subsequent kernel calls to fail.\n",
    "\n",
    "Lets keep a record of this data:"
   ]
  },
  {
   "cell_type": "code",
   "execution_count": 18,
   "metadata": {},
   "outputs": [
    {
     "name": "stdout",
     "output_type": "stream",
     "text": [
      ".ipynb_checkpoints\n",
      "exploring_slic3d.ipynb\n",
      "data\n",
      "benchmarks\n"
     ]
    }
   ],
   "source": [
    "from pathlib import Path\n",
    "\n",
    "# make `data` directory in notebooks if it does not exist\n",
    "notebooks = Path(\".\")\n",
    "dir_name = str(notebooks.absolute()).split(\"/\")[-1]\n",
    "if dir_name == \"notebooks\":\n",
    "    (notebooks/\"benchmarks\").mkdir(exist_ok=True)\n",
    "else:\n",
    "    print(\"notebooks is not your current worknig directory\")\n",
    "[print(f) for f in notebooks.iterdir()];"
   ]
  },
  {
   "cell_type": "code",
   "execution_count": 19,
   "metadata": {},
   "outputs": [],
   "source": [
    "import pandas as pd"
   ]
  },
  {
   "cell_type": "code",
   "execution_count": 20,
   "metadata": {
    "scrolled": false
   },
   "outputs": [
    {
     "name": "stdout",
     "output_type": "stream",
     "text": [
      "412 ms ± 0 ns per loop (mean ± std. dev. of 1 run, 1 loop each)\n",
      "108 ms ± 0 ns per loop (mean ± std. dev. of 1 run, 1 loop each)\n",
      "1.33 s ± 0 ns per loop (mean ± std. dev. of 1 run, 1 loop each)\n",
      "1.01 s ± 0 ns per loop (mean ± std. dev. of 1 run, 1 loop each)\n",
      "5.35 s ± 0 ns per loop (mean ± std. dev. of 1 run, 1 loop each)\n",
      "9.11 s ± 0 ns per loop (mean ± std. dev. of 1 run, 1 loop each)\n",
      "13.9 s ± 0 ns per loop (mean ± std. dev. of 1 run, 1 loop each)\n",
      "33.5 s ± 0 ns per loop (mean ± std. dev. of 1 run, 1 loop each)\n",
      "26.6 s ± 0 ns per loop (mean ± std. dev. of 1 run, 1 loop each)\n",
      "1min 24s ± 0 ns per loop (mean ± std. dev. of 1 run, 1 loop each)\n",
      "46.4 s ± 0 ns per loop (mean ± std. dev. of 1 run, 1 loop each)\n",
      "2min 50s ± 0 ns per loop (mean ± std. dev. of 1 run, 1 loop each)\n"
     ]
    }
   ],
   "source": [
    "DO_BENCHMARK = True\n",
    "SAVE_BENCHMARK = True\n",
    "\n",
    "def generate_benchmark():\n",
    "    df = pd.DataFrame(columns=[\"bytes\", \"cuda_time\", \"skimage_time\"])\n",
    "    lengths = [50, 100, 200, 300, 400, 500]\n",
    "    for i in range(len(lengths)):\n",
    "        row = []\n",
    "        row.append(lengths[i]**3*4) #number of bytes to be processed\n",
    "        blob = data.binary_blobs(length=lengths[i], n_dim=3, seed=2)\n",
    "        blob = img_as_float32(blob)\n",
    "        measurement1 = %timeit -n1 -r1 -o cuda_slic(blob, nsp=lengths[i], compactness=30)\n",
    "        row.append(measurement1.average)\n",
    "        measurement2 = %timeit -n1 -r1 -o sk_slic(blob, n_segments=lengths[i], compactness=1, multichannel=False)\n",
    "        row.append(measurement2.average)\n",
    "        df.loc[i] = row\n",
    "    return df\n",
    "if DO_BENCHMARK:\n",
    "    df = generate_benchmark()"
   ]
  },
  {
   "cell_type": "code",
   "execution_count": 21,
   "metadata": {},
   "outputs": [
    {
     "data": {
      "text/plain": [
       "'15_07_2020'"
      ]
     },
     "execution_count": 21,
     "metadata": {},
     "output_type": "execute_result"
    }
   ],
   "source": [
    "from datetime import datetime\n",
    "\n",
    "d = datetime.now()\n",
    "d.strftime(\"%d_%m_%Y\")"
   ]
  },
  {
   "cell_type": "code",
   "execution_count": 22,
   "metadata": {},
   "outputs": [],
   "source": [
    "from datetime import datetime\n",
    "if SAVE_BENCHMARK:\n",
    "    d = datetime.now()\n",
    "    d = d.strftime(\"%d_%m_%Y\")\n",
    "    df.to_csv(\"benchmarks/slic_bench_{}.csv\".format(d), index=False)"
   ]
  },
  {
   "cell_type": "code",
   "execution_count": 23,
   "metadata": {},
   "outputs": [],
   "source": [
    "ndf = df.copy()"
   ]
  },
  {
   "cell_type": "code",
   "execution_count": 24,
   "metadata": {},
   "outputs": [
    {
     "data": {
      "text/plain": [
       "<matplotlib.legend.Legend at 0x7f9b87f36f50>"
      ]
     },
     "execution_count": 24,
     "metadata": {},
     "output_type": "execute_result"
    },
    {
     "data": {
      "image/png": "[encoded data removed]",
      "text/plain": [
       "<Figure size 864x360 with 1 Axes>"
      ]
     },
     "metadata": {
      "needs_background": "light"
     },
     "output_type": "display_data"
    }
   ],
   "source": [
    "ndf[\"g_bytes\"] = ndf[\"bytes\"]/10**9\n",
    "\n",
    "fig, ax = plt.subplots(1,1,figsize=(12,5))\n",
    "plt.plot(ndf.g_bytes, ndf.cuda_time, \"go\", label=\"cuda_slic\")\n",
    "plt.plot(ndf.g_bytes, ndf.skimage_time, color=\"orange\", marker=\"o\", label=\"skimage_slic\")\n",
    "plt.xlabel(\"data size (GB)\", size=16)\n",
    "plt.ylabel(\"time (s)\", size=16)\n",
    "plt.legend()"
   ]
  },
  {
   "cell_type": "code",
   "execution_count": 25,
   "metadata": {},
   "outputs": [],
   "source": [
    "slope_cuda = (ndf.cuda_time.iloc[-1] - ndf.cuda_time.iloc[0])/\\\n",
    "             (ndf.g_bytes.iloc[-1] - ndf.g_bytes.iloc[0])\n",
    "slope_skimage = (ndf.skimage_time.iloc[-1] - ndf.skimage_time.iloc[0])/\\\n",
    "                (ndf.g_bytes.iloc[-1] - ndf.g_bytes.iloc[0])"
   ]
  },
  {
   "cell_type": "code",
   "execution_count": 26,
   "metadata": {},
   "outputs": [
    {
     "name": "stdout",
     "output_type": "stream",
     "text": [
      "92.12646064897616\n",
      "341.15874444230553\n"
     ]
    }
   ],
   "source": [
    "print(slope_cuda);print(slope_skimage)"
   ]
  },
  {
   "cell_type": "code",
   "execution_count": 27,
   "metadata": {},
   "outputs": [
    {
     "name": "stdout",
     "output_type": "stream",
     "text": [
      "So cuda_slic is ~3.70x faster than sk_slic.\n"
     ]
    }
   ],
   "source": [
    "print(\"So cuda_slic is ~{:.2f}x faster than sk_slic.\".format(slope_skimage/slope_cuda))"
   ]
  },
  {
   "cell_type": "code",
   "execution_count": null,
   "metadata": {},
   "outputs": [],
   "source": []
  }
 ],
 "metadata": {
  "kernelspec": {
   "display_name": "Python 3",
   "language": "python",
   "name": "python3"
  },
  "language_info": {
   "codemirror_mode": {
    "name": "ipython",
    "version": 3
   },
   "file_extension": ".py",
   "mimetype": "text/x-python",
   "name": "python",
   "nbconvert_exporter": "python",
   "pygments_lexer": "ipython3",
   "version": "3.7.6"
  }
 },
 "nbformat": 4,
 "nbformat_minor": 4
}
