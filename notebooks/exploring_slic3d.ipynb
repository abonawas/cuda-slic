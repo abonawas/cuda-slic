{
 "cells": [
  {
   "cell_type": "code",
   "execution_count": 1,
   "metadata": {},
   "outputs": [],
   "source": [
    "%matplotlib inline\n",
    "\n",
    "# ensure that any edits to libraries\n",
    "# are reloaded automatically\n",
    "%reload_ext autoreload\n",
    "%autoreload 2"
   ]
  },
  {
   "cell_type": "code",
   "execution_count": 2,
   "metadata": {},
   "outputs": [],
   "source": [
    "# make survos2 importable\n",
    "import sys\n",
    "sys.path.append(\"./..\")"
   ]
  },
  {
   "cell_type": "markdown",
   "metadata": {},
   "source": [
    "lets import the relavent functions"
   ]
  },
  {
   "cell_type": "code",
   "execution_count": 3,
   "metadata": {},
   "outputs": [],
   "source": [
    "from cuda_slic.slic import slic as cuda_slic"
   ]
  },
  {
   "cell_type": "code",
   "execution_count": 4,
   "metadata": {},
   "outputs": [],
   "source": [
    "import numpy as np\n",
    "from skimage import data, color, filters, segmentation\n",
    "from skimage.util import img_as_float32, img_as_float64\n",
    "from skimage.segmentation import slic as sk_slic\n",
    "from skimage.segmentation import mark_boundaries\n",
    "\n",
    "import matplotlib.pyplot as plt\n",
    "from ipywidgets import interact\n"
   ]
  },
  {
   "cell_type": "code",
   "execution_count": 5,
   "metadata": {},
   "outputs": [
    {
     "ename": "ModuleNotFoundError",
     "evalue": "No module named 'h5py'",
     "output_type": "error",
     "traceback": [
      "\u001b[0;31m---------------------------------------------------------------------------\u001b[0m",
      "\u001b[0;31mModuleNotFoundError\u001b[0m                       Traceback (most recent call last)",
      "\u001b[0;32m<ipython-input-5-f83144fe9aa2>\u001b[0m in \u001b[0;36m<module>\u001b[0;34m\u001b[0m\n\u001b[1;32m      1\u001b[0m \u001b[0;31m# 3D muli-channel\u001b[0m\u001b[0;34m\u001b[0m\u001b[0;34m\u001b[0m\u001b[0;34m\u001b[0m\u001b[0m\n\u001b[0;32m----> 2\u001b[0;31m \u001b[0;32mimport\u001b[0m \u001b[0mh5py\u001b[0m \u001b[0;32mas\u001b[0m \u001b[0mh5\u001b[0m\u001b[0;34m\u001b[0m\u001b[0;34m\u001b[0m\u001b[0m\n\u001b[0m\u001b[1;32m      3\u001b[0m \u001b[0;32mwith\u001b[0m \u001b[0mh5\u001b[0m\u001b[0;34m.\u001b[0m\u001b[0mFile\u001b[0m\u001b[0;34m(\u001b[0m\u001b[0;34m'../data/brain.h5'\u001b[0m\u001b[0;34m,\u001b[0m \u001b[0;34m'r'\u001b[0m\u001b[0;34m)\u001b[0m \u001b[0;32mas\u001b[0m \u001b[0mf\u001b[0m\u001b[0;34m:\u001b[0m\u001b[0;34m\u001b[0m\u001b[0;34m\u001b[0m\u001b[0m\n\u001b[1;32m      4\u001b[0m     \u001b[0mbrain\u001b[0m \u001b[0;34m=\u001b[0m \u001b[0mf\u001b[0m\u001b[0;34m[\u001b[0m\u001b[0;34m'/data'\u001b[0m\u001b[0;34m]\u001b[0m\u001b[0;34m[\u001b[0m\u001b[0;34m(\u001b[0m\u001b[0;34m)\u001b[0m\u001b[0;34m]\u001b[0m\u001b[0;34m\u001b[0m\u001b[0;34m\u001b[0m\u001b[0m\n\u001b[1;32m      5\u001b[0m \u001b[0;31m#labels = cuda_slic(brain, n_segments=10000, multichannel=False, compactness=1)\u001b[0m\u001b[0;34m\u001b[0m\u001b[0;34m\u001b[0m\u001b[0;34m\u001b[0m\u001b[0m\n",
      "\u001b[0;31mModuleNotFoundError\u001b[0m: No module named 'h5py'"
     ]
    }
   ],
   "source": [
    "# 3D muli-channel\n",
    "import h5py as h5\n",
    "with h5.File('../data/brain.h5', 'r') as f:\n",
    "    brain = f['/data'][()]\n",
    "#labels = cuda_slic(brain, n_segments=10000, multichannel=False, compactness=1)\n",
    "labels = sk_slic(brain, n_segments=10000, multichannel=False, compactness=0.02, slic_zero=True)\n",
    "\n",
    "plt.figure(figsize=(20,20))\n",
    "plt.imshow(labels[40])\n",
    "plt.show()"
   ]
  },
  {
   "cell_type": "code",
   "execution_count": 6,
   "metadata": {
    "scrolled": false
   },
   "outputs": [
    {
     "name": "stdout",
     "output_type": "stream",
     "text": [
      "[ 0  1  2  3  4  5  6  7  8  9 10 11 12 13 14 15 16 17 18 19 20 21 22 23\n",
      " 24 25 26 27 28 29 30 31 32 33 34 35 36 37 38 39 40 41 42 43 44 45 46 47\n",
      " 48 49 50 51 52 53 54 55 56 57 58 59 60 61 62 63 64 65 66 67 68 69 70 71\n",
      " 72 73 74 75 76 77 78 79 80 81 82 83 84 85]\n"
     ]
    },
    {
     "data": {
      "text/plain": [
       "<matplotlib.image.AxesImage at 0x7fcf6d90a350>"
      ]
     },
     "execution_count": 6,
     "metadata": {},
     "output_type": "execute_result"
    },
    {
     "data": {
      "image/png": "[encoded data removed]",
      "text/plain": [
       "<Figure size 432x288 with 1 Axes>"
      ]
     },
     "metadata": {
      "needs_background": "light"
     },
     "output_type": "display_data"
    }
   ],
   "source": [
    "vol = data.binary_blobs(length=50, n_dim=4, seed=33)[...]\n",
    "labels = cuda_slic(vol, n_segments=100, multichannel=True, compactness=1)\n",
    "print(np.unique(labels))\n",
    "plt.imshow(labels[5])"
   ]
  },
  {
   "cell_type": "markdown",
   "metadata": {},
   "source": [
    "Comparing speed between cuda-slic and skslic"
   ]
  },
  {
   "cell_type": "code",
   "execution_count": 7,
   "metadata": {},
   "outputs": [
    {
     "name": "stdout",
     "output_type": "stream",
     "text": [
      "cuda_slic took:\n",
      "527 ms ± 0 ns per loop (mean ± std. dev. of 1 run, 1 loop each)\n",
      "sk_slic took:\n"
     ]
    },
    {
     "name": "stderr",
     "output_type": "stream",
     "text": [
      "/scratch/ovs72384/anaconda3/envs/cupy-slic/lib/python3.7/site-packages/ipykernel_launcher.py:1: FutureWarning: skimage.measure.label's indexing starts from 0. In future version it will start from 1. To disable this warning, explicitely set the `start_label` parameter to 1.\n",
      "  \"\"\"Entry point for launching an IPython kernel.\n"
     ]
    },
    {
     "name": "stdout",
     "output_type": "stream",
     "text": [
      "1.25 s ± 0 ns per loop (mean ± std. dev. of 1 run, 1 loop each)\n"
     ]
    },
    {
     "name": "stderr",
     "output_type": "stream",
     "text": [
      "/scratch/ovs72384/anaconda3/envs/cupy-slic/lib/python3.7/site-packages/ipykernel_launcher.py:14: FutureWarning: skimage.measure.label's indexing starts from 0. In future version it will start from 1. To disable this warning, explicitely set the `start_label` parameter to 1.\n",
      "  \n"
     ]
    },
    {
     "ename": "IndexError",
     "evalue": "too many indices for array: array is 2-dimensional, but 3 were indexed",
     "output_type": "error",
     "traceback": [
      "\u001b[0;31m---------------------------------------------------------------------------\u001b[0m",
      "\u001b[0;31mIndexError\u001b[0m                                Traceback (most recent call last)",
      "\u001b[0;32m<ipython-input-7-600d60d70033>\u001b[0m in \u001b[0;36m<module>\u001b[0;34m\u001b[0m\n\u001b[1;32m     15\u001b[0m \u001b[0;34m\u001b[0m\u001b[0m\n\u001b[1;32m     16\u001b[0m \u001b[0mfig\u001b[0m\u001b[0;34m,\u001b[0m \u001b[0;34m(\u001b[0m\u001b[0max1\u001b[0m\u001b[0;34m,\u001b[0m \u001b[0max2\u001b[0m\u001b[0;34m)\u001b[0m \u001b[0;34m=\u001b[0m \u001b[0mplt\u001b[0m\u001b[0;34m.\u001b[0m\u001b[0msubplots\u001b[0m\u001b[0;34m(\u001b[0m\u001b[0;36m1\u001b[0m\u001b[0;34m,\u001b[0m\u001b[0;36m2\u001b[0m\u001b[0;34m,\u001b[0m\u001b[0mfigsize\u001b[0m\u001b[0;34m=\u001b[0m\u001b[0;34m(\u001b[0m\u001b[0;36m16\u001b[0m\u001b[0;34m,\u001b[0m\u001b[0;36m8\u001b[0m\u001b[0;34m)\u001b[0m\u001b[0;34m)\u001b[0m\u001b[0;34m\u001b[0m\u001b[0;34m\u001b[0m\u001b[0m\n\u001b[0;32m---> 17\u001b[0;31m \u001b[0max1\u001b[0m\u001b[0;34m.\u001b[0m\u001b[0mimshow\u001b[0m\u001b[0;34m(\u001b[0m\u001b[0mcuda_labels\u001b[0m\u001b[0;34m[\u001b[0m\u001b[0;34m:\u001b[0m\u001b[0;34m,\u001b[0m\u001b[0;34m:\u001b[0m\u001b[0;34m,\u001b[0m\u001b[0;36m0\u001b[0m\u001b[0;34m]\u001b[0m\u001b[0;34m)\u001b[0m\u001b[0;34m;\u001b[0m \u001b[0max1\u001b[0m\u001b[0;34m.\u001b[0m\u001b[0maxis\u001b[0m\u001b[0;34m(\u001b[0m\u001b[0;34m\"off\"\u001b[0m\u001b[0;34m)\u001b[0m\u001b[0;34m;\u001b[0m \u001b[0max1\u001b[0m\u001b[0;34m.\u001b[0m\u001b[0mset_title\u001b[0m\u001b[0;34m(\u001b[0m\u001b[0;34m\"cuda labels\"\u001b[0m\u001b[0;34m,\u001b[0m \u001b[0msize\u001b[0m\u001b[0;34m=\u001b[0m\u001b[0;36m22\u001b[0m\u001b[0;34m)\u001b[0m\u001b[0;34m;\u001b[0m\u001b[0;34m\u001b[0m\u001b[0;34m\u001b[0m\u001b[0m\n\u001b[0m\u001b[1;32m     18\u001b[0m \u001b[0max2\u001b[0m\u001b[0;34m.\u001b[0m\u001b[0mimshow\u001b[0m\u001b[0;34m(\u001b[0m\u001b[0msk_labels\u001b[0m\u001b[0;34m[\u001b[0m\u001b[0;34m...\u001b[0m\u001b[0;34m,\u001b[0m\u001b[0;36m0\u001b[0m\u001b[0;34m]\u001b[0m\u001b[0;34m)\u001b[0m\u001b[0;34m;\u001b[0m \u001b[0max2\u001b[0m\u001b[0;34m.\u001b[0m\u001b[0maxis\u001b[0m\u001b[0;34m(\u001b[0m\u001b[0;34m\"off\"\u001b[0m\u001b[0;34m)\u001b[0m\u001b[0;34m;\u001b[0m \u001b[0max2\u001b[0m\u001b[0;34m.\u001b[0m\u001b[0mset_title\u001b[0m\u001b[0;34m(\u001b[0m\u001b[0;34m\"sk labels\"\u001b[0m\u001b[0;34m,\u001b[0m \u001b[0msize\u001b[0m\u001b[0;34m=\u001b[0m\u001b[0;36m22\u001b[0m\u001b[0;34m)\u001b[0m\u001b[0;34m;\u001b[0m\u001b[0;34m\u001b[0m\u001b[0;34m\u001b[0m\u001b[0m\n",
      "\u001b[0;31mIndexError\u001b[0m: too many indices for array: array is 2-dimensional, but 3 were indexed"
     ]
    },
    {
     "data": {
      "image/png": "[encoded data removed]",
      "text/plain": [
       "<Figure size 1152x576 with 2 Axes>"
      ]
     },
     "metadata": {
      "needs_background": "light"
     },
     "output_type": "display_data"
    }
   ],
   "source": [
    "# initializing a 3 dim dataset\n",
    "\n",
    "blob = data.binary_blobs(length=100, n_dim=3, seed=2)\n",
    "blob = np.float32(blob)\n",
    "\n",
    "\n",
    "print(\"cuda_slic took:\")\n",
    "%timeit -n1 -r1 cuda_labels = cuda_slic(blob, n_segments=300**2, compactness=0.5)\n",
    "cuda_labels = cuda_slic(blob, n_segments=200, compactness=.5)\n",
    "\n",
    "#blob = img_as_float64(blob)\n",
    "print(\"sk_slic took:\")\n",
    "%timeit -n1 -r1 sk_labels = sk_slic(blob, n_segments=200, compactness=.5,  multichannel=False)\n",
    "sk_labels = sk_slic(blob, n_segments=200, compactness=1,  multichannel=False)\n",
    "\n",
    "fig, (ax1, ax2) = plt.subplots(1,2,figsize=(16,8))\n",
    "ax1.imshow(cuda_labels[:,:,0]); ax1.axis(\"off\"); ax1.set_title(\"cuda labels\", size=22);\n",
    "ax2.imshow(sk_labels[...,0]); ax2.axis(\"off\"); ax2.set_title(\"sk labels\", size=22);"
   ]
  },
  {
   "cell_type": "markdown",
   "metadata": {},
   "source": [
    "lets explore the segmentation of the whole 3D array"
   ]
  },
  {
   "cell_type": "code",
   "execution_count": 8,
   "metadata": {},
   "outputs": [],
   "source": [
    "marked_cuda = mark_boundaries(color.gray2rgb(blob), cuda_labels)\n",
    "marked_sk = mark_boundaries(color.gray2rgb(blob), sk_labels)"
   ]
  },
  {
   "cell_type": "code",
   "execution_count": 9,
   "metadata": {},
   "outputs": [],
   "source": [
    "def plot_slice(images, z, cols=2, ax_size=5, titles=None):\n",
    "    rows = (len(images)+cols-1)//cols\n",
    "    fig, axes = plt.subplots(rows, cols, figsize=(cols*ax_size, rows*ax_size))\n",
    "    axes = axes.flatten()\n",
    "    for ax in axes:\n",
    "        ax.axis('off')\n",
    "    for i in range(len(images)):\n",
    "        axes[i].imshow(images[i][:,:,z])\n",
    "        if titles:\n",
    "            axes[i].set_title(titles[i], size=32)\n",
    "    plt.tight_layout()"
   ]
  },
  {
   "cell_type": "code",
   "execution_count": 10,
   "metadata": {
    "scrolled": false
   },
   "outputs": [
    {
     "data": {
      "application/vnd.jupyter.widget-view+json": {
       "model_id": "b679894c5bfa47b2a630e5b62e5ea652",
       "version_major": 2,
       "version_minor": 0
      },
      "text/plain": [
       "interactive(children=(IntSlider(value=0, description='z', max=99), IntSlider(value=2, description='cols', max=…"
      ]
     },
     "metadata": {},
     "output_type": "display_data"
    },
    {
     "data": {
      "image/png": "[encoded data removed]",
      "text/plain": [
       "<Figure size 720x720 with 4 Axes>"
      ]
     },
     "metadata": {
      "needs_background": "light"
     },
     "output_type": "display_data"
    }
   ],
   "source": [
    "from ipywidgets import IntSlider, fixed\n",
    "interact(plot_slice,\n",
    "         images=fixed([cuda_labels, marked_cuda, sk_labels, marked_sk]),\n",
    "         titles=fixed(None),\n",
    "         z=IntSlider(min=0, max=99),\n",
    "         ax_size=(2,20),\n",
    "         cols=(1,6));"
   ]
  },
  {
   "cell_type": "markdown",
   "metadata": {},
   "source": [
    "exploring the `n_segments` parameter and `compactness` parameter for cuda_slic and sk_slic"
   ]
  },
  {
   "cell_type": "code",
   "execution_count": 11,
   "metadata": {},
   "outputs": [
    {
     "name": "stdout",
     "output_type": "stream",
     "text": [
      "[[[1. 1. 0. 0. 0.]\n",
      "  [1. 1. 1. 0. 0.]\n",
      "  [1. 1. 1. 0. 0.]\n",
      "  [1. 1. 1. 1. 1.]\n",
      "  [1. 1. 1. 1. 1.]\n",
      "  [1. 1. 1. 1. 1.]\n",
      "  [0. 1. 0. 0. 1.]\n",
      "  [0. 0. 1. 1. 1.]]\n",
      "\n",
      " [[0. 0. 0. 0. 1.]\n",
      "  [1. 0. 1. 1. 0.]\n",
      "  [1. 1. 1. 1. 1.]\n",
      "  [1. 1. 1. 1. 1.]\n",
      "  [1. 0. 0. 1. 1.]\n",
      "  [1. 0. 0. 0. 1.]\n",
      "  [0. 0. 0. 0. 0.]\n",
      "  [0. 0. 0. 1. 1.]]\n",
      "\n",
      " [[0. 0. 0. 0. 0.]\n",
      "  [1. 0. 1. 1. 0.]\n",
      "  [1. 1. 1. 1. 1.]\n",
      "  [1. 1. 1. 1. 1.]\n",
      "  [1. 0. 0. 0. 1.]\n",
      "  [1. 1. 0. 0. 1.]\n",
      "  [1. 1. 1. 0. 0.]\n",
      "  [0. 0. 0. 1. 1.]]\n",
      "\n",
      " [[0. 0. 0. 0. 0.]\n",
      "  [1. 1. 1. 1. 0.]\n",
      "  [1. 1. 1. 1. 1.]\n",
      "  [1. 1. 1. 1. 1.]\n",
      "  [0. 0. 0. 0. 1.]\n",
      "  [0. 0. 0. 0. 0.]\n",
      "  [1. 1. 0. 0. 1.]\n",
      "  [1. 0. 0. 1. 1.]]\n",
      "\n",
      " [[1. 0. 0. 1. 1.]\n",
      "  [1. 1. 1. 1. 1.]\n",
      "  [1. 1. 1. 1. 1.]\n",
      "  [1. 1. 1. 1. 1.]\n",
      "  [0. 0. 0. 0. 0.]\n",
      "  [0. 0. 0. 0. 0.]\n",
      "  [0. 0. 0. 0. 0.]\n",
      "  [0. 0. 0. 1. 1.]]\n",
      "\n",
      " [[0. 1. 1. 1. 1.]\n",
      "  [1. 1. 0. 0. 0.]\n",
      "  [0. 0. 1. 0. 0.]\n",
      "  [0. 0. 0. 0. 0.]\n",
      "  [1. 0. 0. 1. 0.]\n",
      "  [0. 0. 0. 0. 0.]\n",
      "  [0. 0. 0. 1. 1.]\n",
      "  [0. 0. 0. 1. 1.]]\n",
      "\n",
      " [[0. 1. 1. 1. 1.]\n",
      "  [0. 0. 0. 0. 1.]\n",
      "  [0. 1. 0. 0. 0.]\n",
      "  [0. 0. 0. 0. 0.]\n",
      "  [0. 0. 0. 0. 0.]\n",
      "  [0. 0. 0. 0. 0.]\n",
      "  [0. 1. 0. 0. 1.]\n",
      "  [0. 0. 0. 0. 1.]]\n",
      "\n",
      " [[0. 1. 1. 1. 1.]\n",
      "  [0. 0. 0. 0. 0.]\n",
      "  [0. 0. 1. 0. 0.]\n",
      "  [0. 1. 0. 0. 0.]\n",
      "  [1. 0. 0. 0. 1.]\n",
      "  [1. 1. 0. 1. 1.]\n",
      "  [1. 0. 0. 1. 1.]\n",
      "  [1. 0. 0. 0. 1.]]]\n"
     ]
    }
   ],
   "source": [
    "blob = data.binary_blobs(length=8, n_dim=3, seed=2)\n",
    "#blob = filters.gaussian(blob)\n",
    "blob = blob[:,:,:5]\n",
    "#blob = filters.gaussian(blob)\n",
    "blob = np.float32(blob)\n",
    "print(blob)"
   ]
  },
  {
   "cell_type": "code",
   "execution_count": 12,
   "metadata": {},
   "outputs": [],
   "source": [
    "def compare_slic_algos(cuda_c, sk_c, max_iter=5, n_segments=100, z=0):\n",
    "    cuda_labels = cuda_slic(blob, n_segments=n_segments,\n",
    "                            compactness=cuda_c,\n",
    "                            max_iter=max_iter,\n",
    "                            postprocess=False)\n",
    "    sk_labels = sk_slic(blob, n_segments=n_segments,\n",
    "                        compactness=sk_c,\n",
    "                        multichannel=False,\n",
    "                        start_label=1)\n",
    "    marked_blob_cuda = mark_boundaries(color.gray2rgb(blob), cuda_labels, color=(0.2, 1, 0))\n",
    "    marked_blob_sk = mark_boundaries(color.gray2rgb(blob), sk_labels, color=(1, 0.7, 0))\n",
    "    plot_slice([cuda_labels, blob, sk_labels, blob],\n",
    "               z=z,\n",
    "               ax_size=6,\n",
    "               titles=[\"cuda-slic\", \"data\", \"skimage-slic\", \"data\"])\n",
    "    print(\"cuda unique labels = {}\".format(len(np.unique(cuda_labels))))\n",
    "    print(\"sk unique labels = {}\".format(len(np.unique(sk_labels))))"
   ]
  },
  {
   "cell_type": "code",
   "execution_count": 13,
   "metadata": {},
   "outputs": [
    {
     "data": {
      "application/vnd.jupyter.widget-view+json": {
       "model_id": "809eab959ac1469dadbb4d94d84e17de",
       "version_major": 2,
       "version_minor": 0
      },
      "text/plain": [
       "interactive(children=(FloatSlider(value=0.5, description='cuda_c', max=1.0, min=0.001, step=0.001), FloatSlide…"
      ]
     },
     "metadata": {},
     "output_type": "display_data"
    }
   ],
   "source": [
    "interact(compare_slic_algos,\n",
    "         cuda_c=(0.001,1.0,0.001),\n",
    "         sk_c=(0.001,1.0,0.0001),\n",
    "         n_segments=(0,500),\n",
    "         z=IntSlider(min=0, max=9));"
   ]
  },
  {
   "cell_type": "markdown",
   "metadata": {},
   "source": [
    "## Cuda SLIC Failiure Modes\n",
    "From playing around with the parameters I was able to discover a few inputs that causes the cuda_slic algorithm to throw an error."
   ]
  },
  {
   "cell_type": "code",
   "execution_count": 26,
   "metadata": {},
   "outputs": [],
   "source": [
    "RUN_TESTS = True"
   ]
  },
  {
   "cell_type": "markdown",
   "metadata": {},
   "source": [
    "### 1. input array (500, 500, 500), nps>50_000, compactness=30:\n",
    "\n",
    "This usually throughs a `LogicError` exception. When it fails, it leaves memory residue in the GPU that is not cleaned up unless you terminate the pyhton process. \n",
    "\n",
    "This error is sometimes generated from the cuda compilation step of the `ccl.py` and sometimes form `slic.py`\n",
    "\n",
    "Further complicating things the algorithm does not fail reliably with these inputs!!\n",
    "However, I was able to make it fail reliably with `nps=500_000`. This indicates that the failiure rate is related to the the `nps` parameter.\n"
   ]
  },
  {
   "cell_type": "code",
   "execution_count": 32,
   "metadata": {},
   "outputs": [
    {
     "name": "stdout",
     "output_type": "stream",
     "text": [
      "3338303\n"
     ]
    }
   ],
   "source": [
    "if RUN_TESTS:\n",
    "    blob = data.binary_blobs(length=600, n_dim=3, seed=2)\n",
    "    blob = np.float32(blob)\n",
    "    cuda_labels = cuda_slic(blob, n_segments=5_000_000, compactness=0.5)\n",
    "    print(len(np.unique(cuda_labels)))"
   ]
  },
  {
   "cell_type": "markdown",
   "metadata": {},
   "source": [
    "\n",
    "```\n",
    "---------------------------------------------------------------------------\n",
    "LogicError                                Traceback (most recent call last)\n",
    "<ipython-input-39-ad381aadb072> in <module>\n",
    "      1 blob = data.binary_blobs(length=500, n_dim=3, seed=2)\n",
    "      2 blob = img_as_float32(blob)\n",
    "----> 3 cuda_labels = cuda_slic(blob, nsp=50_000, compactness=30)\n",
    "      4 print(len(np.unique(cuda_labels)))\n",
    "\n",
    "~/Projects/gpu-slic/survos2/improc/utils.py in wrapper(out, src_mode, *args, **kwargs)\n",
    "    563                          fillvalue=fillvalue, src_mode=src_mode)\n",
    "    564         with DatasetManager(*args, **dm_params) as DM:\n",
    "--> 565             result = func(*DM.sources, **kwargs)\n",
    "    566             if out is not None:\n",
    "    567                 DM.out[...] = result\n",
    "\n",
    "~/Projects/gpu-slic/survos2/improc/cuda.py in wrapper(keep_gpu, *args, **kwargs)\n",
    "     37     @wraps(func)\n",
    "     38     def wrapper(*args, keep_gpu=False, **kwargs):\n",
    "---> 39         r = func(*args, **kwargs)\n",
    "     40         return asgpuarray(r, dtype) if keep_gpu else asnparray(r, dtype)\n",
    "     41     return wrapper\n",
    "\n",
    "~/Projects/gpu-slic/survos2/improc/regions/slic.py in slic3d(data, nsp, sp_shape, compactness, sigma, spacing, max_iter, postprocess)\n",
    "     29 \n",
    "     30     with open(op.join(__dirname__, 'kernels', 'slic3d.cu'), 'r') as f:\n",
    "---> 31         _mod_conv = SourceModule(f.read())\n",
    "     32         gpu_slic_init = _mod_conv.get_function('init_clusters')\n",
    "     33         gpu_slic_expectation = _mod_conv.get_function('expectation')\n",
    "\n",
    "/scratch/ovs72384/anaconda3/envs/gpu-slic/lib/python3.7/site-packages/pycuda/compiler.py in __init__(self, source, nvcc, options, keep, no_extern_c, arch, code, cache_dir, include_dirs)\n",
    "    292 \n",
    "    293         from pycuda.driver import module_from_buffer\n",
    "--> 294         self.module = module_from_buffer(cubin)\n",
    "    295 \n",
    "    296         self._bind_module()\n",
    "\n",
    "LogicError: cuModuleLoadDataEx failed: an illegal memory access was encountered -\n",
    "```"
   ]
  },
  {
   "cell_type": "markdown",
   "metadata": {},
   "source": [
    "Interestingly, `sk_slic` drops out and refuses to segment the array to more than 250_000 groups. For example"
   ]
  },
  {
   "cell_type": "code",
   "execution_count": 20,
   "metadata": {},
   "outputs": [
    {
     "name": "stdout",
     "output_type": "stream",
     "text": [
      "360000\n"
     ]
    }
   ],
   "source": [
    "sk_labels = sk_slic(blob, n_segments=5_000_000, compactness=1)\n",
    "print(len(np.unique(sk_labels))) #250000"
   ]
  },
  {
   "cell_type": "markdown",
   "metadata": {},
   "source": [
    "\n",
    "\n",
    "### 2. input array of size less than (32, 32, 32) fails with \"`IndexError`: too many indices for array\""
   ]
  },
  {
   "cell_type": "code",
   "execution_count": 28,
   "metadata": {
    "scrolled": true
   },
   "outputs": [
    {
     "name": "stdout",
     "output_type": "stream",
     "text": [
      "8\n"
     ]
    }
   ],
   "source": [
    "if RUN_TESTS:\n",
    "    blob = data.binary_blobs(length=32, n_dim=3, seed=2)\n",
    "    blob = np.float32(blob)\n",
    "    cuda_labels = cuda_slic(blob, n_segments=2, compactness=0.5)\n",
    "    print(len(np.unique(cuda_labels)))"
   ]
  },
  {
   "cell_type": "markdown",
   "metadata": {},
   "source": [
    "```\n",
    "---------------------------------------------------------------------------\n",
    "IndexError                                Traceback (most recent call last)\n",
    "<ipython-input-22-0316eb65c967> in <module>\n",
    "      1 blob = data.binary_blobs(length=31, n_dim=3, seed=2)\n",
    "      2 blob = img_as_float32(blob)\n",
    "----> 3 cuda_labels = cuda_slic(blob, nsp=10, compactness=30)\n",
    "      4 print(len(np.unique(cuda_labels)))\n",
    "\n",
    "~/Projects/gpu-slic/survos2/improc/utils.py in wrapper(out, src_mode, *args, **kwargs)\n",
    "    563                          fillvalue=fillvalue, src_mode=src_mode)\n",
    "    564         with DatasetManager(*args, **dm_params) as DM:\n",
    "--> 565             result = func(*DM.sources, **kwargs)\n",
    "    566             if out is not None:\n",
    "    567                 DM.out[...] = result\n",
    "\n",
    "~/Projects/gpu-slic/survos2/improc/cuda.py in wrapper(keep_gpu, *args, **kwargs)\n",
    "     37     @wraps(func)\n",
    "     38     def wrapper(*args, keep_gpu=False, **kwargs):\n",
    "---> 39         r = func(*args, **kwargs)\n",
    "     40         return asgpuarray(r, dtype) if keep_gpu else asnparray(r, dtype)\n",
    "     41     return wrapper\n",
    "\n",
    "~/Projects/gpu-slic/survos2/improc/regions/slic.py in slic3d(data, nsp, sp_shape, compactness, sigma, spacing, max_iter, postprocess)\n",
    "     85     if postprocess:\n",
    "     86         min_size = int(np.prod(_sp_shape) / 10.)\n",
    "---> 87         r = merge_small(asnparray(data), r, min_size)\n",
    "     88         binlab = np.bincount(r.ravel())\n",
    "     89 \n",
    "\n",
    "~/Projects/gpu-slic/survos2/improc/utils.py in wrapper(out, src_mode, *args, **kwargs)\n",
    "    563                          fillvalue=fillvalue, src_mode=src_mode)\n",
    "    564         with DatasetManager(*args, **dm_params) as DM:\n",
    "--> 565             result = func(*DM.sources, **kwargs)\n",
    "    566             if out is not None:\n",
    "    567                 DM.out[...] = result\n",
    "\n",
    "~/Projects/gpu-slic/survos2/improc/utils.py in wrapper(*args, **kwargs)\n",
    "    517     @wraps(func)\n",
    "    518     def wrapper(*args, **kwargs):\n",
    "--> 519         r = func(*args, **kwargs)\n",
    "    520         return r is None or asnparray(r, dtype=dtype)\n",
    "    521     return wrapper\n",
    "\n",
    "~/Projects/gpu-slic/survos2/improc/regions/ccl.py in merge_small(data, labels, min_size, **kwargs)\n",
    "     80         data = data[..., None]\n",
    "     81     assert data.ndim == labels.ndim + 1\n",
    "---> 82     return _merge_small3d(data, labels, labels.max()+1, min_size)\n",
    "     83 \n",
    "     84 \n",
    "\n",
    "~/Projects/gpu-slic/survos2/improc/regions/_ccl.pyx in improc.superregions._ccl._merge_small3d()\n",
    "\n",
    "IndexError: too many indices for array\n",
    "\n",
    "```"
   ]
  },
  {
   "cell_type": "code",
   "execution_count": 27,
   "metadata": {},
   "outputs": [],
   "source": [
    "## 3. lets check if the code is diterministic"
   ]
  },
  {
   "cell_type": "code",
   "execution_count": 66,
   "metadata": {},
   "outputs": [
    {
     "name": "stdout",
     "output_type": "stream",
     "text": [
      "[True, True, True, True, True, True, True, True, True, True]\n"
     ]
    }
   ],
   "source": [
    "if RUN_TESTS:\n",
    "    blob = data.binary_blobs(length=10, n_dim=3, seed=2)\n",
    "    blob = np.float32(blob)\n",
    "    all_close = []\n",
    "    for i in range(10):\n",
    "        cuda_labels1 = cuda_slic(blob, n_segments=100, compactness=0.1, postprocess=False)\n",
    "        cuda_labels2 = cuda_slic(blob, n_segments=100, compactness=0.1, postprocess=False)\n",
    "        all_close.append((cuda_labels1 == cuda_labels2).all())\n",
    "    print(all_close)"
   ]
  },
  {
   "cell_type": "markdown",
   "metadata": {},
   "source": [
    "```\n",
    "---------------------------------------------------------------------------\n",
    "AssertionError                            Traceback (most recent call last)\n",
    "<ipython-input-38-af438af83248> in <module>\n",
    "      4 cuda_labels2 = cuda_slic(blob, nsp=32, compactness=30)\n",
    "      5 \n",
    "----> 6 assert np.allclose(cuda_labels1, cuda_labels2)\n",
    "\n",
    "AssertionError: \n",
    "```\n",
    "\n",
    "as expected. This basically confirms to me that there are memory race errors in the code.\n",
    "\n",
    "This is likely related to Faliure mode 1. as you expect data races not to raise errors under\n",
    "ordinary circomstances."
   ]
  },
  {
   "cell_type": "markdown",
   "metadata": {},
   "source": [
    "## Performance Benchmarks\n",
    "Performance characteristics can reveal important bugs in the code base. So lets see how `cuda_slic` and `sk_slic` compare.\n",
    "\n",
    "Running these benchmarks uncovered errors when the cuda_slic functin is run consecutively with many different inputs.\n",
    "This indicates that the GPU memory is retaining state from previous calls that cause a subsequent kernel calls to fail.\n",
    "\n",
    "Lets keep a record of this data:"
   ]
  },
  {
   "cell_type": "code",
   "execution_count": 5,
   "metadata": {},
   "outputs": [
    {
     "name": "stdout",
     "output_type": "stream",
     "text": [
      ".ipynb_checkpoints\n",
      "exploring_slic3d.ipynb\n",
      "benchmarks\n",
      "numpy_notes.ipynb\n",
      "pycuda_debug.ipynb\n",
      "exploring_skimage_slic.ipynb\n"
     ]
    }
   ],
   "source": [
    "from pathlib import Path\n",
    "\n",
    "# make `data` directory in notebooks if it does not exist\n",
    "notebooks = Path(\".\")\n",
    "dir_name = str(notebooks.absolute()).split(\"/\")[-1]\n",
    "if dir_name == \"notebooks\":\n",
    "    (notebooks/\"benchmarks\").mkdir(exist_ok=True)\n",
    "else:\n",
    "    print(\"notebooks is not your current worknig directory\")\n",
    "[print(f) for f in notebooks.iterdir()];"
   ]
  },
  {
   "cell_type": "code",
   "execution_count": 5,
   "metadata": {},
   "outputs": [],
   "source": [
    "import pandas as pd"
   ]
  },
  {
   "cell_type": "code",
   "execution_count": 12,
   "metadata": {
    "scrolled": false
   },
   "outputs": [
    {
     "name": "stdout",
     "output_type": "stream",
     "text": [
      "cuda time for length 100:\n",
      "523 ms ± 0 ns per loop (mean ± std. dev. of 1 run, 1 loop each)\n",
      "skimage time for length 100:\n",
      "1.12 s ± 0 ns per loop (mean ± std. dev. of 1 run, 1 loop each)\n",
      "cuda time for length 200:\n",
      "464 ms ± 0 ns per loop (mean ± std. dev. of 1 run, 1 loop each)\n",
      "skimage time for length 200:\n",
      "9.51 s ± 0 ns per loop (mean ± std. dev. of 1 run, 1 loop each)\n",
      "cuda time for length 300:\n",
      "1.51 s ± 0 ns per loop (mean ± std. dev. of 1 run, 1 loop each)\n",
      "skimage time for length 300:\n",
      "32.2 s ± 0 ns per loop (mean ± std. dev. of 1 run, 1 loop each)\n",
      "cuda time for length 400:\n",
      "3.48 s ± 0 ns per loop (mean ± std. dev. of 1 run, 1 loop each)\n",
      "skimage time for length 400:\n",
      "1min 16s ± 0 ns per loop (mean ± std. dev. of 1 run, 1 loop each)\n",
      "cuda time for length 500:\n",
      "6.47 s ± 0 ns per loop (mean ± std. dev. of 1 run, 1 loop each)\n",
      "skimage time for length 500:\n",
      "2min 31s ± 0 ns per loop (mean ± std. dev. of 1 run, 1 loop each)\n"
     ]
    }
   ],
   "source": [
    "DO_BENCHMARK = True\n",
    "SAVE_BENCHMARK = False\n",
    "\n",
    "def generate_benchmark():\n",
    "    df = pd.DataFrame(columns=[\"bytes\", \"n_segments\", \"cuda_time\", \"skimage_time\"])\n",
    "    lengths = [100, 200, 300, 400, 500]\n",
    "    #lengths = range(100, 450,30)\n",
    "    for i in range(len(lengths)):\n",
    "        row = []\n",
    "        row.append(lengths[i]**3*4) #number of bytes to be processed\n",
    "        n_segments = lengths[i]**3/3**3\n",
    "        row.append(n_segments)\n",
    "        blob = data.binary_blobs(length=lengths[i], n_dim=3, seed=2)\n",
    "        blob = np.float32(blob)\n",
    "        print(f\"cuda time for length {lengths[i]}:\")\n",
    "        measurement1 = %timeit -n1 -r1 -o cuda_slic(blob, n_segments=n_segments, multichannel=False, compactness=1)\n",
    "        row.append(measurement1.average)\n",
    "        print(f\"skimage time for length {lengths[i]}:\")\n",
    "        measurement2 = %timeit -n1 -r1 -o sk_slic(blob, n_segments=n_segments, \\\n",
    "                                                  compactness=1, multichannel=False, \\\n",
    "                                                  max_iter=5, start_label=1)\n",
    "        row.append(measurement2.average)\n",
    "        df.loc[i] = row\n",
    "    return df\n",
    "if DO_BENCHMARK:\n",
    "    df = generate_benchmark()"
   ]
  },
  {
   "cell_type": "code",
   "execution_count": 13,
   "metadata": {},
   "outputs": [
    {
     "name": "stdout",
     "output_type": "stream",
     "text": [
      "0     2.142904\n",
      "1    20.495266\n",
      "2    21.334586\n",
      "3    21.925650\n",
      "4    23.362116\n",
      "dtype: float64\n"
     ]
    }
   ],
   "source": [
    "print(df.skimage_time/df.cuda_time)"
   ]
  },
  {
   "cell_type": "code",
   "execution_count": 8,
   "metadata": {},
   "outputs": [
    {
     "data": {
      "text/plain": [
       "'23_08_2020'"
      ]
     },
     "execution_count": 8,
     "metadata": {},
     "output_type": "execute_result"
    }
   ],
   "source": [
    "from datetime import datetime\n",
    "\n",
    "d = datetime.now()\n",
    "d.strftime(\"%d_%m_%Y\")"
   ]
  },
  {
   "cell_type": "code",
   "execution_count": 9,
   "metadata": {},
   "outputs": [],
   "source": [
    "from datetime import datetime\n",
    "SAVE_BENCHMARK = True\n",
    "if SAVE_BENCHMARK:\n",
    "    d = datetime.now()\n",
    "    d = d.strftime(\"%d_%m_%Y\")\n",
    "    df.to_csv(\"benchmarks/slic_bench_{}.csv\".format(d), index=False)"
   ]
  },
  {
   "cell_type": "code",
   "execution_count": 10,
   "metadata": {},
   "outputs": [],
   "source": [
    "ndf = df.copy()"
   ]
  },
  {
   "cell_type": "code",
   "execution_count": 11,
   "metadata": {},
   "outputs": [
    {
     "data": {
      "text/plain": [
       "<matplotlib.legend.Legend at 0x7fb4547a6d10>"
      ]
     },
     "execution_count": 11,
     "metadata": {},
     "output_type": "execute_result"
    },
    {
     "data": {
      "image/png": "[encoded data removed]",
      "text/plain": [
       "<Figure size 864x360 with 1 Axes>"
      ]
     },
     "metadata": {
      "needs_background": "light"
     },
     "output_type": "display_data"
    }
   ],
   "source": [
    "ndf[\"g_bytes\"] = ndf[\"bytes\"]/10**9\n",
    "\n",
    "fig, ax = plt.subplots(1,1,figsize=(12,5))\n",
    "plt.plot(ndf.g_bytes, ndf.cuda_time, color=\"green\", marker=\"o\", label=\"cuda_slic\")\n",
    "\n",
    "plt.plot(ndf.g_bytes, ndf.skimage_time, color=\"orange\", marker=\"o\", label=\"skimage_slic\")\n",
    "plt.xlabel(\"data size (GB)\", size=16)\n",
    "plt.ylabel(\"time (s)\", size=16)\n",
    "plt.legend()"
   ]
  },
  {
   "cell_type": "code",
   "execution_count": 12,
   "metadata": {},
   "outputs": [],
   "source": [
    "slope_cuda = (ndf.cuda_time.iloc[-1] - ndf.cuda_time.iloc[0])/\\\n",
    "             (ndf.g_bytes.iloc[-1] - ndf.g_bytes.iloc[0])\n",
    "slope_skimage = (ndf.skimage_time.iloc[-1] - ndf.skimage_time.iloc[0])/\\\n",
    "                (ndf.g_bytes.iloc[-1] - ndf.g_bytes.iloc[0])"
   ]
  },
  {
   "cell_type": "code",
   "execution_count": 13,
   "metadata": {},
   "outputs": [
    {
     "name": "stdout",
     "output_type": "stream",
     "text": [
      "20.52296429821816\n",
      "294.8413084776539\n"
     ]
    }
   ],
   "source": [
    "print(slope_cuda);print(slope_skimage)"
   ]
  },
  {
   "cell_type": "code",
   "execution_count": 14,
   "metadata": {},
   "outputs": [
    {
     "name": "stdout",
     "output_type": "stream",
     "text": [
      "So cuda_slic is ~14.37x faster than sk_slic.\n"
     ]
    }
   ],
   "source": [
    "print(\"So cuda_slic is ~{:.2f}x faster than sk_slic.\".format(slope_skimage/slope_cuda))"
   ]
  },
  {
   "cell_type": "code",
   "execution_count": null,
   "metadata": {},
   "outputs": [],
   "source": []
  },
  {
   "cell_type": "code",
   "execution_count": 5,
   "metadata": {
    "scrolled": false
   },
   "outputs": [
    {
     "name": "stdout",
     "output_type": "stream",
     "text": [
      "input data now is 4.0 MB\n",
      "795 ms ± 0 ns per loop (mean ± std. dev. of 1 run, 1 loop each)\n",
      "input data now is 13.5 MB\n",
      "664 ms ± 0 ns per loop (mean ± std. dev. of 1 run, 1 loop each)\n",
      "input data now is 32.0 MB\n",
      "1.1 s ± 0 ns per loop (mean ± std. dev. of 1 run, 1 loop each)\n",
      "input data now is 62.5 MB\n",
      "2.09 s ± 0 ns per loop (mean ± std. dev. of 1 run, 1 loop each)\n",
      "input data now is 108.0 MB\n",
      "3.74 s ± 0 ns per loop (mean ± std. dev. of 1 run, 1 loop each)\n",
      "input data now is 171.5 MB\n",
      "5.51 s ± 0 ns per loop (mean ± std. dev. of 1 run, 1 loop each)\n",
      "input data now is 256.0 MB\n",
      "8.11 s ± 0 ns per loop (mean ± std. dev. of 1 run, 1 loop each)\n",
      "input data now is 364.5 MB\n",
      "11.5 s ± 0 ns per loop (mean ± std. dev. of 1 run, 1 loop each)\n",
      "input data now is 500.0 MB\n",
      "19.4 s ± 0 ns per loop (mean ± std. dev. of 1 run, 1 loop each)\n"
     ]
    }
   ],
   "source": [
    "def cuda_benchmark():\n",
    "    byte_sizes = []\n",
    "    times = []\n",
    "    lengths = range(100, 550,50)\n",
    "    #lengths = [750]\n",
    "    for i in range(len(lengths)):\n",
    "        byte_size = lengths[i]**3*4\n",
    "        byte_sizes.append(byte_size)\n",
    "        n_segments = lengths[i]**3/10**3\n",
    "        blob = data.binary_blobs(length=lengths[i], n_dim=3, seed=2)\n",
    "        blob = np.float32(blob)\n",
    "        print(\"input data now is {} MB\".format(byte_size/10**6))\n",
    "        measurement = %timeit -n1 -r1 -o cuda_slic(blob, n_segments=n_segments, compactness=1)\n",
    "        times.append(measurement.average)\n",
    "    return byte_sizes, times\n",
    "\n",
    "b, t = cuda_benchmark()"
   ]
  },
  {
   "cell_type": "code",
   "execution_count": null,
   "metadata": {},
   "outputs": [],
   "source": [
    "import matplotlib.pyplot as plt"
   ]
  },
  {
   "cell_type": "code",
   "execution_count": null,
   "metadata": {},
   "outputs": [],
   "source": [
    "print(b, t)\n",
    "plt.plot([bb/10**9 for bb in b], t, color=\"green\", marker=\"o\")"
   ]
  },
  {
   "cell_type": "markdown",
   "metadata": {},
   "source": [
    "### Profiling"
   ]
  },
  {
   "cell_type": "code",
   "execution_count": 15,
   "metadata": {},
   "outputs": [
    {
     "name": "stdout",
     "output_type": "stream",
     "text": [
      "Collecting line_profiler\n",
      "  Downloading line_profiler-3.0.2-cp37-cp37m-manylinux2010_x86_64.whl (68 kB)\n",
      "\u001b[K     |████████████████████████████████| 68 kB 701 kB/s  eta 0:00:01\n",
      "\u001b[?25hRequirement already satisfied: IPython in /scratch/ovs72384/anaconda3/envs/cupy-slic/lib/python3.7/site-packages (from line_profiler) (7.17.0)\n",
      "Requirement already satisfied: pygments in /scratch/ovs72384/anaconda3/envs/cupy-slic/lib/python3.7/site-packages (from IPython->line_profiler) (2.6.1)\n",
      "Requirement already satisfied: backcall in /scratch/ovs72384/anaconda3/envs/cupy-slic/lib/python3.7/site-packages (from IPython->line_profiler) (0.2.0)\n",
      "Requirement already satisfied: pexpect; sys_platform != \"win32\" in /scratch/ovs72384/anaconda3/envs/cupy-slic/lib/python3.7/site-packages (from IPython->line_profiler) (4.8.0)\n",
      "Requirement already satisfied: traitlets>=4.2 in /scratch/ovs72384/anaconda3/envs/cupy-slic/lib/python3.7/site-packages (from IPython->line_profiler) (4.3.3)\n",
      "Requirement already satisfied: prompt-toolkit!=3.0.0,!=3.0.1,<3.1.0,>=2.0.0 in /scratch/ovs72384/anaconda3/envs/cupy-slic/lib/python3.7/site-packages (from IPython->line_profiler) (3.0.5)\n",
      "Requirement already satisfied: jedi>=0.10 in /scratch/ovs72384/anaconda3/envs/cupy-slic/lib/python3.7/site-packages (from IPython->line_profiler) (0.17.2)\n",
      "Requirement already satisfied: decorator in /scratch/ovs72384/anaconda3/envs/cupy-slic/lib/python3.7/site-packages (from IPython->line_profiler) (4.4.2)\n",
      "Requirement already satisfied: setuptools>=18.5 in /scratch/ovs72384/anaconda3/envs/cupy-slic/lib/python3.7/site-packages (from IPython->line_profiler) (49.6.0.post20200814)\n",
      "Requirement already satisfied: pickleshare in /scratch/ovs72384/anaconda3/envs/cupy-slic/lib/python3.7/site-packages (from IPython->line_profiler) (0.7.5)\n",
      "Requirement already satisfied: ptyprocess>=0.5 in /scratch/ovs72384/anaconda3/envs/cupy-slic/lib/python3.7/site-packages (from pexpect; sys_platform != \"win32\"->IPython->line_profiler) (0.6.0)\n",
      "Requirement already satisfied: ipython-genutils in /scratch/ovs72384/anaconda3/envs/cupy-slic/lib/python3.7/site-packages (from traitlets>=4.2->IPython->line_profiler) (0.2.0)\n",
      "Requirement already satisfied: six in /scratch/ovs72384/anaconda3/envs/cupy-slic/lib/python3.7/site-packages (from traitlets>=4.2->IPython->line_profiler) (1.15.0)\n",
      "Requirement already satisfied: wcwidth in /scratch/ovs72384/anaconda3/envs/cupy-slic/lib/python3.7/site-packages (from prompt-toolkit!=3.0.0,!=3.0.1,<3.1.0,>=2.0.0->IPython->line_profiler) (0.2.5)\n",
      "Requirement already satisfied: parso<0.8.0,>=0.7.0 in /scratch/ovs72384/anaconda3/envs/cupy-slic/lib/python3.7/site-packages (from jedi>=0.10->IPython->line_profiler) (0.7.0)\n",
      "Installing collected packages: line-profiler\n",
      "Successfully installed line-profiler-3.0.2\n"
     ]
    }
   ],
   "source": [
    "!pip install line_profiler"
   ]
  },
  {
   "cell_type": "code",
   "execution_count": 16,
   "metadata": {},
   "outputs": [],
   "source": [
    "%load_ext line_profiler"
   ]
  },
  {
   "cell_type": "code",
   "execution_count": 17,
   "metadata": {},
   "outputs": [],
   "source": [
    "# initializing a 3 dim dataset\n",
    "n = 600\n",
    "n_segments = n**3/5**3\n",
    "blob = data.binary_blobs(length=n, n_dim=3, seed=2)\n",
    "blob = np.float32(blob)"
   ]
  },
  {
   "cell_type": "code",
   "execution_count": 19,
   "metadata": {},
   "outputs": [],
   "source": [
    "\n",
    "%lprun -f cuda_slic cuda_slic(blob, n_segments=n_segments, multichannel=False, compactness=0.5)"
   ]
  },
  {
   "cell_type": "markdown",
   "metadata": {},
   "source": [
    "<pre>\n",
    "\n",
    "\n",
    "\n",
    "Timer unit: 1e-06 s\n",
    "\n",
    "Total time: 40.0355 s\n",
    "File: /home/ovs72384/Projects/cuda-slic/src/cuda_slic/slic.py\n",
    "Function: slic at line 26\n",
    "\n",
    "Line #      Hits         Time  Per Hit   % Time  Line Contents\n",
    "==============================================================\n",
    "    26                                           def slic(\n",
    "    27                                               image,\n",
    "    28                                               n_segments=100,\n",
    "    29                                               compactness=1.0,\n",
    "    30                                               spacing=(1, 1, 1),\n",
    "    31                                               max_iter=5,\n",
    "    32                                               multichannel=True,\n",
    "    33                                               convert2lab=None,\n",
    "    34                                               enforce_connectivity=True,\n",
    "    35                                               min_size_factor=0.4,\n",
    "    36                                               max_size_factor=10.0,\n",
    "    37                                           ):\n",
    "    38                                               \"\"\"Segments image using k-means clustering in Color-(x,y,z) space.\n",
    "    39                                               Parameters\n",
    "    40                                               ----------\n",
    "    41                                               image : 2D, 3D or 4D ndarray\n",
    "    42                                                   Input image, which can be 2D or 3D, and grayscale or multichannel\n",
    "    43                                                   (see `multichannel` parameter).\n",
    "    44                                               n_segments : int, optional\n",
    "    45                                                   The (approximate) number of labels in the segmented output image.\n",
    "    46                                               compactness : float, optional\n",
    "    47                                                   Balances color proximity and space proximity. Higher values give\n",
    "    48                                                   more weight to space proximity, making superpixel shapes more\n",
    "    49                                                   square/cubic.\n",
    "    50                                                   This parameter depends strongly on image contrast and on the\n",
    "    51                                                   shapes of objects in the image. We recommend exploring possible\n",
    "    52                                                   values on a log scale, e.g., 0.01, 0.1, 1, 10, 100, before\n",
    "    53                                                   refining around a chosen value.\n",
    "    54                                               max_iter : int, optional\n",
    "    55                                                   Maximum number of iterations of k-means.\n",
    "    56                                               spacing : (3,) array-like of floats, optional\n",
    "    57                                                   The voxel spacing along each image dimension. By default, `slic`\n",
    "    58                                                   assumes uniform spacing (same voxel resolution along z, y and x).\n",
    "    59                                                   This parameter controls the weights of the distances along z, y,\n",
    "    60                                                   and x during k-means clustering.\n",
    "    61                                               multichannel : bool, optional\n",
    "    62                                                   Whether the last axis of the image is to be interpreted as multiple\n",
    "    63                                                   channels or another spatial dimension.\n",
    "    64                                               convert2lab : bool, optional\n",
    "    65                                                   Whether the input should be converted to Lab colorspace prior to\n",
    "    66                                                   segmentation. The input image *must* be RGB. Highly recommended.\n",
    "    67                                                   This option defaults to ``True`` when ``multichannel=True`` *and*\n",
    "    68                                                   ``image.shape[-1] == 3``.\n",
    "    69                                               enforce_connectivity : bool, optional\n",
    "    70                                                   Whether the generated segments are connected or not\n",
    "    71                                               min_size_factor : float, optional\n",
    "    72                                                   Proportion of the minimum segment size to be removed with respect\n",
    "    73                                                   to the supposed segment size ```depth*width*height/n_segments```\n",
    "    74                                               max_size_factor : float, optional\n",
    "    75                                                   Proportion of the maximum connected segment size. A value of 3 works\n",
    "    76                                                   in most of the cases.\n",
    "    77                                               Returns\n",
    "    78                                               -------\n",
    "    79                                               labels : 2D or 3D array\n",
    "    80                                                   Integer mask indicating segment labels.\n",
    "    81                                               Raises\n",
    "    82                                               ------\n",
    "    83                                               ValueError\n",
    "    84                                                   If ``convert2lab`` is set to ``True`` but the last array\n",
    "    85                                                   dimension is not of length 3.\n",
    "    86                                               ValueError\n",
    "    87                                                   If ``image.ndim`` is not 2, 3 or 4.\n",
    "    88                                               Notes\n",
    "    89                                               -----\n",
    "    90                                               * Images of shape (M, N, 3) are interpreted as 2D RGB images by default. To\n",
    "    91                                                 interpret them as 3D with the last dimension having length 3, use\n",
    "    92                                                 `multichannel=False`.\n",
    "    93                                           \n",
    "    94                                               References\n",
    "    95                                               ----------\n",
    "    96                                               .. [1] Radhakrishna Achanta, Appu Shaji, Kevin Smith, Aurelien Lucchi,\n",
    "    97                                                   Pascal Fua, and Sabine Süsstrunk, SLIC Superpixels Compared to\n",
    "    98                                                   State-of-the-art Superpixel Methods, TPAMI, May 2012.\n",
    "    99                                                   :DOI:`10.1109/TPAMI.2012.120`\n",
    "   100                                               Examples\n",
    "   101                                               --------\n",
    "   102                                               >>> from cuda_slic import slic\n",
    "   103                                               >>> from skimage import data\n",
    "   104                                               >>> img = data.astronaut() # 2D RGB image\n",
    "   105                                               >>> labels = slic(img, n_segments=100, compactness=10)\n",
    "   106                                               To segment single channel 3D volumes\n",
    "   107                                               >>> vol = data.binary_blobs(length=50, n_dim=3, seed=2)\n",
    "   108                                               >>> labels = slic(vol, n_segments=100, multichannel=False, compactness=0.1)\n",
    "   109                                               \"\"\"\n",
    "   110                                           \n",
    "   111         1          7.0      7.0      0.0      if image.ndim not in [2, 3, 4]:\n",
    "   112                                                   raise ValueError(\n",
    "   113                                                       (\n",
    "   114                                                           \"input image must be either 2, 3, or 4 dimentional.\\n\"\n",
    "   115                                                           \"The input image.ndim is {}\".format(image.ndim)\n",
    "   116                                                       )\n",
    "   117                                                   )\n",
    "   118                                           \n",
    "   119         1          3.0      3.0      0.0      is_2d = False\n",
    "   120                                           \n",
    "   121         1          2.0      2.0      0.0      if image.ndim == 2:\n",
    "   122                                                   # 2D grayscale image\n",
    "   123                                                   image = image[np.newaxis, ..., np.newaxis]\n",
    "   124                                                   is_2d = True\n",
    "   125         1          3.0      3.0      0.0      elif image.ndim == 3 and multichannel:\n",
    "   126                                                   # Make 2D multichannel image 3D with depth = 1\n",
    "   127                                                   image = image[np.newaxis, ...]\n",
    "   128                                                   is_2d = True\n",
    "   129         1          2.0      2.0      0.0      elif image.ndim == 3 and not multichannel:\n",
    "   130                                                   # Add channel as single last dimension\n",
    "   131         1         10.0     10.0      0.0          image = image[..., np.newaxis]\n",
    "   132                                           \n",
    "   133         1          3.0      3.0      0.0      if multichannel and (convert2lab or convert2lab is None):\n",
    "   134                                                   if image.shape[-1] != 3 and convert2lab:\n",
    "   135                                                       raise ValueError(\"Lab colorspace conversion requires a RGB image.\")\n",
    "   136                                                   elif image.shape[-1] == 3:\n",
    "   137                                                       image = rgb2lab(image)\n",
    "   138                                           \n",
    "   139         1          3.0      3.0      0.0      depth, height, width = image.shape[:3]\n",
    "   140         1         18.0     18.0      0.0      dshape = np.array([depth, height, width])\n",
    "   141                                           \n",
    "   142         1          3.0      3.0      0.0      power = 1 / 2 if is_2d else 1 / 3\n",
    "   143         1        111.0    111.0      0.0      sp_size = int(np.ceil((np.prod(dshape) / n_segments) ** power))\n",
    "   144         1          3.0      3.0      0.0      _sp_shape = np.array(\n",
    "   145                                                   [\n",
    "   146                                                       # don't allow sp_shape to be larger than image sides\n",
    "   147         1          4.0      4.0      0.0              min(depth, sp_size),\n",
    "   148         1          2.0      2.0      0.0              min(height, sp_size),\n",
    "   149         1          7.0      7.0      0.0              min(width, sp_size),\n",
    "   150                                                   ]\n",
    "   151                                               )\n",
    "   152         1         17.0     17.0      0.0      _sp_grid = (dshape + _sp_shape - 1) // _sp_shape\n",
    "   153                                           \n",
    "   154         1         29.0     29.0      0.0      sp_shape = np.asarray(tuple(_sp_shape[::-1]), np.int32)\n",
    "   155         1         11.0     11.0      0.0      sp_grid = np.asarray(tuple(_sp_grid[::-1]), np.int32)\n",
    "   156                                           \n",
    "   157         1          6.0      6.0      0.0      m = np.float32(compactness)\n",
    "   158         1         42.0     42.0      0.0      S = np.float32(np.max(_sp_shape))\n",
    "   159                                           \n",
    "   160         1         21.0     21.0      0.0      n_centers = np.int32(np.prod(_sp_grid))\n",
    "   161         1          3.0      3.0      0.0      n_features = image.shape[-1]\n",
    "   162         1         13.0     13.0      0.0      im_shape = np.asarray(tuple(dshape[::-1]), np.int32)\n",
    "   163         1          9.0      9.0      0.0      spacing = np.asarray(tuple(spacing[::-1]), np.float32)\n",
    "   164                                           \n",
    "   165         1     173244.0 173244.0      0.4      data_gpu = cp.asarray(np.float32(image), dtype=np.float32)\n",
    "   166         1        107.0    107.0      0.0      centers_gpu = cp.zeros((n_centers, n_features + 3), dtype=np.float32)\n",
    "   167         1         54.0     54.0      0.0      labels_gpu = cp.zeros(dshape, dtype=np.uint32)\n",
    "   168                                           \n",
    "   169         1         30.0     30.0      0.0      __dirname__ = op.dirname(__file__)\n",
    "   170         1      10390.0  10390.0      0.0      with open(op.join(__dirname__, \"kernels\", \"slic3d_template.cu\"), \"r\") as f:\n",
    "   171         1      24140.0  24140.0      0.1          template = Template(f.read()).render(\n",
    "   172         1          3.0      3.0      0.0              n_features=n_features,\n",
    "   173         1          2.0      2.0      0.0              n_clusters=n_centers,\n",
    "   174         1          3.0      3.0      0.0              sp_shape=sp_shape,\n",
    "   175         1          2.0      2.0      0.0              sp_grid=sp_grid,\n",
    "   176         1          2.0      2.0      0.0              im_shape=im_shape,\n",
    "   177         1          2.0      2.0      0.0              spacing=spacing,\n",
    "   178         1          2.0      2.0      0.0              m=m,\n",
    "   179         1        157.0    157.0      0.0              S=S,\n",
    "   180                                                   )\n",
    "   181         1          4.0      4.0      0.0          template = 'extern \"C\" { ' + template + \" }\"\n",
    "   182         1     117305.0 117305.0      0.3          _mod_conv = cp.RawModule(code=template, options=(\"-std=c++14\",))\n",
    "   183         1         20.0     20.0      0.0          gpu_slic_init = _mod_conv.get_function(\"init_clusters\")\n",
    "   184         1          7.0      7.0      0.0          gpu_slic_expectation = _mod_conv.get_function(\"expectation\")\n",
    "   185         1         23.0     23.0      0.0          gpu_slic_maximization = _mod_conv.get_function(\"maximization\")\n",
    "   186                                           \n",
    "   187         1         85.0     85.0      0.0      vblock, vgrid = flat_kernel_config(int(np.prod(dshape)))\n",
    "   188         1         33.0     33.0      0.0      cblock, cgrid = flat_kernel_config(int(np.prod(_sp_grid)))\n",
    "   189                                           \n",
    "   190         1          3.0      3.0      0.0      gpu_slic_init(\n",
    "   191         1          3.0      3.0      0.0          cgrid,\n",
    "   192         1          3.0      3.0      0.0          cblock,\n",
    "   193                                                   (\n",
    "   194         1          3.0      3.0      0.0              data_gpu,\n",
    "   195         1         46.0     46.0      0.0              centers_gpu,\n",
    "   196                                                   ),\n",
    "   197                                               )\n",
    "   198         1        517.0    517.0      0.0      cp.cuda.runtime.deviceSynchronize()\n",
    "   199                                           \n",
    "   200         6         14.0      2.3      0.0      for _ in range(max_iter):\n",
    "   201         5          8.0      1.6      0.0          gpu_slic_expectation(\n",
    "   202         5          8.0      1.6      0.0              vgrid,\n",
    "   203         5          7.0      1.4      0.0              vblock,\n",
    "   204                                                       (\n",
    "   205         5          7.0      1.4      0.0                  data_gpu,\n",
    "   206         5          7.0      1.4      0.0                  centers_gpu,\n",
    "   207         5         51.0     10.2      0.0                  labels_gpu,\n",
    "   208                                                       ),\n",
    "   209                                                   )\n",
    "   210         5   26623499.0 5324699.8     66.5          cp.cuda.runtime.deviceSynchronize()\n",
    "   211                                           \n",
    "   212         5         12.0      2.4      0.0          gpu_slic_maximization(\n",
    "   213         5          5.0      1.0      0.0              cgrid,\n",
    "   214         5          6.0      1.2      0.0              cblock,\n",
    "   215                                                       (\n",
    "   216         5          5.0      1.0      0.0                  data_gpu,\n",
    "   217         5          5.0      1.0      0.0                  labels_gpu,\n",
    "   218         5         83.0     16.6      0.0                  centers_gpu,\n",
    "   219                                                       ),\n",
    "   220                                                   )\n",
    "   221         5    2441241.0 488248.2      6.1          cp.cuda.runtime.deviceSynchronize()\n",
    "   222                                           \n",
    "   223         1    1223334.0 1223334.0      3.1      labels = np.asarray(labels_gpu.get(), dtype=np.intp)\n",
    "   224         1          2.0      2.0      0.0      if enforce_connectivity:\n",
    "   225         1         56.0     56.0      0.0          segment_size = np.prod(dshape) / n_centers\n",
    "   226         1          5.0      5.0      0.0          min_size = int(min_size_factor * segment_size)\n",
    "   227         1          2.0      2.0      0.0          max_size = int(max_size_factor * segment_size)\n",
    "   228         1          2.0      2.0      0.0          labels = _enforce_label_connectivity_cython(\n",
    "   229         1    9420588.0 9420588.0     23.5              labels, min_size, max_size, start_label=0\n",
    "   230                                                   )\n",
    "   231                                           \n",
    "   232         1          3.0      3.0      0.0      if is_2d:\n",
    "   233                                                   labels = labels[0]\n",
    "   234                                           \n",
    "   235         1          2.0      2.0      0.0      return labels\n",
    "\n",
    "\n",
    "\n",
    "</pre>"
   ]
  },
  {
   "cell_type": "markdown",
   "metadata": {},
   "source": [
    "<pre>\n",
    "\n",
    "\n",
    "Timer unit: 1e-06 s\n",
    "\n",
    "Total time: 3.59489 s\n",
    "File: ./../survos2/improc/regions/slic.py\n",
    "Function: slic3d at line 24\n",
    "\n",
    "Line #      Hits         Time  Per Hit   % Time  Line Contents\n",
    "==============================================================\n",
    "    24                                           def slic3d(image, n_segments=100, sp_shape=None, compactness=1.0, sigma=None,\n",
    "    25                                                      spacing=(1,1,1), max_iter=5, postprocess=True):\n",
    "    26                                               \"\"\"\n",
    "    27                                           \n",
    "    28                                               \"\"\"\n",
    "    29         1          3.0      3.0      0.0      if image.ndim not in [3,4]:\n",
    "    30                                                   raise ValueError((\"input image must be either 3, or 4 dimention.\"\n",
    "    31                                                                     \"the image.ndim provided is {}\".format(image.ndim)))\n",
    "    32         1         13.0     13.0      0.0      dshape = np.array(image.shape[-3:])\n",
    "    33                                           \n",
    "    34         1       5837.0   5837.0      0.2      with open(op.join(__dirname__, 'kernels', 'slic3d.cu'), 'r') as f:\n",
    "    35         1     150250.0 150250.0      4.2          _mod_conv = SourceModule(f.read())\n",
    "    36         1         28.0     28.0      0.0          gpu_slic_init = _mod_conv.get_function('init_clusters')\n",
    "    37         1          5.0      5.0      0.0          gpu_slic_expectation = _mod_conv.get_function('expectation')\n",
    "    38         1         41.0     41.0      0.0          gpu_slic_maximization = _mod_conv.get_function('maximization')\n",
    "    39                                           \n",
    "    40         1          2.0      2.0      0.0      if sp_shape:\n",
    "    41                                                   if isinstance(sp_shape, int):\n",
    "    42                                                       _sp_shape = np.array([sp_shape, sp_shape, sp_shape])\n",
    "    43                                                   \n",
    "    44                                                   elif len(sp_shape) == 3 and isinstance(sp_shape, tuple):\n",
    "    45                                                       _sp_shape = np.array(sp_shape)\n",
    "    46                                                   else:\n",
    "    47                                                       raise ValueError((\"sp_shape must be scalar int or tuple of length 3\"))\n",
    "    48                                           \n",
    "    49                                                   _sp_grid = (dshape + _sp_shape - 1) // _sp_shape\n",
    "    50                                           \n",
    "    51                                               else:\n",
    "    52         1        177.0    177.0      0.0          sp_size = int(np.ceil((np.prod(dshape) / n_segments)**(1./3.)))\n",
    "    53         1         21.0     21.0      0.0          _sp_shape = np.array([sp_size, sp_size, sp_size])\n",
    "    54         1         25.0     25.0      0.0          _sp_grid = (dshape + _sp_shape - 1) // _sp_shape\n",
    "    55                                           \n",
    "    56         1         42.0     42.0      0.0      sp_shape = np.asarray(tuple(_sp_shape[::-1]), int3)\n",
    "    57         1         10.0     10.0      0.0      sp_grid = np.asarray(tuple(_sp_grid[::-1]), int3)\n",
    "    58                                           \n",
    "    59         1         11.0     11.0      0.0      m = np.float32(compactness)\n",
    "    60                                           \n",
    "    61                                               # seems that changing this line fixed the memory leak issue\n",
    "    62                                               # S = np.float32(np.prod(_sp_shape)**(1./3.))\n",
    "    63         1         39.0     39.0      0.0      S = np.float32(np.max(_sp_shape))\n",
    "    64                                           \n",
    "    65                                               # should be correct according to Achanta 2012\n",
    "    66                                               #S = np.float32(np.sqrt(np.prod(np.array(data.shape[:-1]))/n_segments))\n",
    "    67                                           \n",
    "    68         1         25.0     25.0      0.0      n_centers = np.int32(np.prod(_sp_grid))\n",
    "    69         1          8.0      8.0      0.0      n_features = np.int32(image.shape[0] if image.ndim == 4 else 1)\n",
    "    70         1         11.0     11.0      0.0      im_shape = np.asarray(tuple(dshape[::-1]), int3)\n",
    "    71         1         14.0     14.0      0.0      spacing = np.asarray(tuple(spacing[::-1]), float3)\n",
    "    72                                           \n",
    "    73         1      15933.0  15933.0      0.4      data_gpu = asgpuarray(image, np.float32)\n",
    "    74         1        540.0    540.0      0.0      centers_gpu = gpuarray.zeros((n_centers, n_features + 3), np.float32)\n",
    "    75         1        444.0    444.0      0.0      labels_gpu = gpuarray.zeros(dshape, np.uint32)\n",
    "    76                                           \n",
    "    77         1         65.0     65.0      0.0      vblock, vgrid = flat_kernel_config(gpu_slic_init, dshape)\n",
    "    78         1         23.0     23.0      0.0      cblock, cgrid = flat_kernel_config(gpu_slic_init, _sp_grid)\n",
    "    79                                           \n",
    "    80         1          2.0      2.0      0.0      gpu_slic_init(data_gpu, centers_gpu, n_centers, n_features,\n",
    "    81         1        138.0    138.0      0.0          sp_grid, sp_shape, im_shape, block=cblock, grid=cgrid)\n",
    "    82         1        660.0    660.0      0.0      cuda.Context.synchronize()\n",
    "    83                                           \n",
    "    84         6          8.0      1.3      0.0      for _ in range(max_iter):\n",
    "    85         5          4.0      0.8      0.0          gpu_slic_expectation(data_gpu, centers_gpu, labels_gpu, m, S,\n",
    "    86         5          3.0      0.6      0.0              n_centers, n_features, spacing, sp_grid, sp_shape, im_shape,\n",
    "    87         5        344.0     68.8      0.0              block=vblock, grid=vgrid)\n",
    "    88         5    2244361.0 448872.2     62.4          cuda.Context.synchronize()\n",
    "    89                                           \n",
    "    90         5         11.0      2.2      0.0          gpu_slic_maximization(data_gpu, labels_gpu, centers_gpu,\n",
    "    91         5          5.0      1.0      0.0              n_centers, n_features, sp_grid, sp_shape, im_shape,\n",
    "    92         5        394.0     78.8      0.0              block=cblock, grid=cgrid)\n",
    "    93         5     690248.0 138049.6     19.2          cuda.Context.synchronize()\n",
    "    94                                           \n",
    "    95         1     165306.0 165306.0      4.6      r = ccl3d(labels_gpu, remap=True)\n",
    "    96                                               # r = asnparray(labels_gpu, dtype=np.int)\n",
    "    97                                           \n",
    "    98                                               # labels = labels_gpu.get()\n",
    "    99                                               # binlab = np.bincount(labels.ravel())\n",
    "   100                                               # binlab = np.bincount(r.ravel())\n",
    "   101                                           \n",
    "   102         1          2.0      2.0      0.0      if postprocess:\n",
    "   103                                                   # segment_size = np.prod(dshape)/n_centers\n",
    "   104                                                   # min_size = int(0.2 * segment_size)\n",
    "   105                                                   # max_size = int(3 * segment_size)\n",
    "   106                                                   # r = _enforce_label_connectivity_cython(r, min_size, max_size, start_label=0)\n",
    "   107         1         67.0     67.0      0.0          min_size = int(np.prod(_sp_shape) / 10.)\n",
    "   108         1     319770.0 319770.0      8.9          r = merge_small(asnparray(image), asnparray(r), min_size)\n",
    "   109                                                   # binlab = np.bincount(r.ravel())\n",
    "   110                                           \n",
    "   111         1          3.0      3.0      0.0      return r\n",
    "\n",
    "\n",
    "</pre>"
   ]
  },
  {
   "cell_type": "code",
   "execution_count": 10,
   "metadata": {},
   "outputs": [
    {
     "data": {
      "text/plain": [
       "array([[1, 1, 2, 2],\n",
       "       [1, 1, 2, 2],\n",
       "       [1, 1, 2, 2]])"
      ]
     },
     "execution_count": 10,
     "metadata": {},
     "output_type": "execute_result"
    }
   ],
   "source": [
    "plane = [[1,1,0,0],\n",
    "         [1,1,0,0],\n",
    "         [1,1,1,1],\n",
    "         [1,1,1,1]]\n",
    "vol = np.asarray([plane, plane, plane])\n",
    "cuda_slic(vol, n_segments=2, compactness=0.1, enforce_connectivity=False)"
   ]
  },
  {
   "cell_type": "code",
   "execution_count": null,
   "metadata": {},
   "outputs": [],
   "source": []
  },
  {
   "cell_type": "code",
   "execution_count": null,
   "metadata": {},
   "outputs": [],
   "source": []
  },
  {
   "cell_type": "code",
   "execution_count": null,
   "metadata": {},
   "outputs": [],
   "source": []
  },
  {
   "cell_type": "code",
   "execution_count": null,
   "metadata": {},
   "outputs": [],
   "source": []
  }
 ],
 "metadata": {
  "kernelspec": {
   "display_name": "Python 3",
   "language": "python",
   "name": "python3"
  },
  "language_info": {
   "codemirror_mode": {
    "name": "ipython",
    "version": 3
   },
   "file_extension": ".py",
   "mimetype": "text/x-python",
   "name": "python",
   "nbconvert_exporter": "python",
   "pygments_lexer": "ipython3",
   "version": "3.7.7"
  }
 },
 "nbformat": 4,
 "nbformat_minor": 4
}
